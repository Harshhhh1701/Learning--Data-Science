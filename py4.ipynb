{
 "cells": [
  {
   "cell_type": "code",
   "execution_count": 1,
   "metadata": {},
   "outputs": [],
   "source": [
    "import sqlite3"
   ]
  },
  {
   "cell_type": "code",
   "execution_count": 2,
   "metadata": {},
   "outputs": [],
   "source": [
    "conn=sqlite3.connect('files/dallas-ois.sqlite')"
   ]
  },
  {
   "cell_type": "code",
   "execution_count": 3,
   "metadata": {},
   "outputs": [],
   "source": [
    "cursor=conn.cursor()"
   ]
  },
  {
   "cell_type": "code",
   "execution_count": 5,
   "metadata": {},
   "outputs": [
    {
     "data": {
      "text/plain": [
       "<sqlite3.Cursor at 0x2374b086180>"
      ]
     },
     "execution_count": 5,
     "metadata": {},
     "output_type": "execute_result"
    }
   ],
   "source": [
    "cursor.execute(\"SELECT name FROM sqlite_master WHERE type='table' ORDER BY name\")"
   ]
  },
  {
   "cell_type": "code",
   "execution_count": 6,
   "metadata": {},
   "outputs": [
    {
     "data": {
      "text/plain": [
       "[('incidents',), ('officers',), ('subjects',)]"
      ]
     },
     "execution_count": 6,
     "metadata": {},
     "output_type": "execute_result"
    }
   ],
   "source": [
    " cursor.fetchall()"
   ]
  },
  {
   "cell_type": "code",
   "execution_count": 7,
   "metadata": {},
   "outputs": [
    {
     "data": {
      "text/plain": [
       "[(0, 'case_number', 'TEXT', 0, None, 0),\n",
       " (1, 'race', 'TEXT', 0, None, 0),\n",
       " (2, 'gender', 'TEXT', 0, None, 0),\n",
       " (3, 'last_name', 'TEXT', 0, None, 0),\n",
       " (4, 'first_name', 'TEXT', 0, None, 0),\n",
       " (5, 'full_name', 'TEXT', 0, None, 0)]"
      ]
     },
     "execution_count": 7,
     "metadata": {},
     "output_type": "execute_result"
    }
   ],
   "source": [
    "cursor.execute(\"PRAGMA table_info(officers)\").fetchall()"
   ]
  },
  {
   "cell_type": "code",
   "execution_count": 8,
   "metadata": {},
   "outputs": [],
   "source": [
    "import pandas as pd\n",
    "officers=pd.read_sql('SELECT * FROM officers',conn)"
   ]
  },
  {
   "cell_type": "code",
   "execution_count": 9,
   "metadata": {},
   "outputs": [
    {
     "data": {
      "text/html": [
       "<div>\n",
       "<style scoped>\n",
       "    .dataframe tbody tr th:only-of-type {\n",
       "        vertical-align: middle;\n",
       "    }\n",
       "\n",
       "    .dataframe tbody tr th {\n",
       "        vertical-align: top;\n",
       "    }\n",
       "\n",
       "    .dataframe thead th {\n",
       "        text-align: right;\n",
       "    }\n",
       "</style>\n",
       "<table border=\"1\" class=\"dataframe\">\n",
       "  <thead>\n",
       "    <tr style=\"text-align: right;\">\n",
       "      <th></th>\n",
       "      <th>case_number</th>\n",
       "      <th>race</th>\n",
       "      <th>gender</th>\n",
       "      <th>last_name</th>\n",
       "      <th>first_name</th>\n",
       "      <th>full_name</th>\n",
       "    </tr>\n",
       "  </thead>\n",
       "  <tbody>\n",
       "    <tr>\n",
       "      <th>0</th>\n",
       "      <td>44523A</td>\n",
       "      <td>L</td>\n",
       "      <td>M</td>\n",
       "      <td>Patino</td>\n",
       "      <td>Michael</td>\n",
       "      <td>Patino, Michael</td>\n",
       "    </tr>\n",
       "    <tr>\n",
       "      <th>1</th>\n",
       "      <td>44523A</td>\n",
       "      <td>W</td>\n",
       "      <td>M</td>\n",
       "      <td>Fillingim</td>\n",
       "      <td>Brian</td>\n",
       "      <td>Fillingim, Brian</td>\n",
       "    </tr>\n",
       "    <tr>\n",
       "      <th>2</th>\n",
       "      <td>121982X</td>\n",
       "      <td>L</td>\n",
       "      <td>M</td>\n",
       "      <td>Padilla</td>\n",
       "      <td>Gilbert</td>\n",
       "      <td>Padilla, Gilbert</td>\n",
       "    </tr>\n",
       "    <tr>\n",
       "      <th>3</th>\n",
       "      <td>605484T</td>\n",
       "      <td>W</td>\n",
       "      <td>M</td>\n",
       "      <td>Poston</td>\n",
       "      <td>Jerry</td>\n",
       "      <td>Poston, Jerry</td>\n",
       "    </tr>\n",
       "    <tr>\n",
       "      <th>4</th>\n",
       "      <td>384832T</td>\n",
       "      <td>B</td>\n",
       "      <td>M</td>\n",
       "      <td>Mondy</td>\n",
       "      <td>Michael</td>\n",
       "      <td>Mondy, Michael</td>\n",
       "    </tr>\n",
       "  </tbody>\n",
       "</table>\n",
       "</div>"
      ],
      "text/plain": [
       "  case_number race gender  last_name first_name         full_name\n",
       "0      44523A    L      M     Patino    Michael   Patino, Michael\n",
       "1      44523A    W      M  Fillingim      Brian  Fillingim, Brian\n",
       "2     121982X    L      M    Padilla    Gilbert  Padilla, Gilbert\n",
       "3     605484T    W      M     Poston      Jerry     Poston, Jerry\n",
       "4     384832T    B      M      Mondy    Michael    Mondy, Michael"
      ]
     },
     "execution_count": 9,
     "metadata": {},
     "output_type": "execute_result"
    }
   ],
   "source": [
    "officers.head()"
   ]
  },
  {
   "cell_type": "code",
   "execution_count": 10,
   "metadata": {},
   "outputs": [],
   "source": [
    "officers=pd.read_sql('SELECT * FROM officers JOIN incidents ON officers.case_number=incidents.case_number',conn)"
   ]
  },
  {
   "cell_type": "code",
   "execution_count": 11,
   "metadata": {},
   "outputs": [
    {
     "data": {
      "text/html": [
       "<div>\n",
       "<style scoped>\n",
       "    .dataframe tbody tr th:only-of-type {\n",
       "        vertical-align: middle;\n",
       "    }\n",
       "\n",
       "    .dataframe tbody tr th {\n",
       "        vertical-align: top;\n",
       "    }\n",
       "\n",
       "    .dataframe thead th {\n",
       "        text-align: right;\n",
       "    }\n",
       "</style>\n",
       "<table border=\"1\" class=\"dataframe\">\n",
       "  <thead>\n",
       "    <tr style=\"text-align: right;\">\n",
       "      <th></th>\n",
       "      <th>case_number</th>\n",
       "      <th>race</th>\n",
       "      <th>gender</th>\n",
       "      <th>last_name</th>\n",
       "      <th>first_name</th>\n",
       "      <th>full_name</th>\n",
       "      <th>case_number</th>\n",
       "      <th>date</th>\n",
       "      <th>location</th>\n",
       "      <th>subject_statuses</th>\n",
       "      <th>...</th>\n",
       "      <th>subjects</th>\n",
       "      <th>subject_count</th>\n",
       "      <th>officers</th>\n",
       "      <th>officer_count</th>\n",
       "      <th>grand_jury_disposition</th>\n",
       "      <th>attorney_general_forms_url</th>\n",
       "      <th>summary_url</th>\n",
       "      <th>summary_text</th>\n",
       "      <th>latitude</th>\n",
       "      <th>longitude</th>\n",
       "    </tr>\n",
       "  </thead>\n",
       "  <tbody>\n",
       "    <tr>\n",
       "      <th>0</th>\n",
       "      <td>44523A</td>\n",
       "      <td>L</td>\n",
       "      <td>M</td>\n",
       "      <td>Patino</td>\n",
       "      <td>Michael</td>\n",
       "      <td>Patino, Michael</td>\n",
       "      <td>44523A</td>\n",
       "      <td>2013-02-23</td>\n",
       "      <td>3000 Chihuahua Street</td>\n",
       "      <td>Injured</td>\n",
       "      <td>...</td>\n",
       "      <td>Curry, James L/M</td>\n",
       "      <td>1</td>\n",
       "      <td>Patino, Michael L/M; Fillingim, Brian W/M</td>\n",
       "      <td>2</td>\n",
       "      <td>No Bill</td>\n",
       "      <td>None</td>\n",
       "      <td>http://dallaspolice.net/reports/OIS/narrative/...</td>\n",
       "      <td>On Saturday, February 23, 2013, at approximate...</td>\n",
       "      <td>NaN</td>\n",
       "      <td>NaN</td>\n",
       "    </tr>\n",
       "    <tr>\n",
       "      <th>1</th>\n",
       "      <td>44523A</td>\n",
       "      <td>W</td>\n",
       "      <td>M</td>\n",
       "      <td>Fillingim</td>\n",
       "      <td>Brian</td>\n",
       "      <td>Fillingim, Brian</td>\n",
       "      <td>44523A</td>\n",
       "      <td>2013-02-23</td>\n",
       "      <td>3000 Chihuahua Street</td>\n",
       "      <td>Injured</td>\n",
       "      <td>...</td>\n",
       "      <td>Curry, James L/M</td>\n",
       "      <td>1</td>\n",
       "      <td>Patino, Michael L/M; Fillingim, Brian W/M</td>\n",
       "      <td>2</td>\n",
       "      <td>No Bill</td>\n",
       "      <td>None</td>\n",
       "      <td>http://dallaspolice.net/reports/OIS/narrative/...</td>\n",
       "      <td>On Saturday, February 23, 2013, at approximate...</td>\n",
       "      <td>NaN</td>\n",
       "      <td>NaN</td>\n",
       "    </tr>\n",
       "    <tr>\n",
       "      <th>2</th>\n",
       "      <td>121982X</td>\n",
       "      <td>L</td>\n",
       "      <td>M</td>\n",
       "      <td>Padilla</td>\n",
       "      <td>Gilbert</td>\n",
       "      <td>Padilla, Gilbert</td>\n",
       "      <td>121982X</td>\n",
       "      <td>2010-05-03</td>\n",
       "      <td>1300 N. Munger Boulevard</td>\n",
       "      <td>Injured</td>\n",
       "      <td>...</td>\n",
       "      <td>Chavez, Gabriel L/M</td>\n",
       "      <td>1</td>\n",
       "      <td>Padilla, Gilbert L/M</td>\n",
       "      <td>1</td>\n",
       "      <td>No Bill</td>\n",
       "      <td>None</td>\n",
       "      <td>http://dallaspolice.net/reports/OIS/narrative/...</td>\n",
       "      <td>On Monday, May 3, 2010, at approximately 8:06 ...</td>\n",
       "      <td>NaN</td>\n",
       "      <td>NaN</td>\n",
       "    </tr>\n",
       "    <tr>\n",
       "      <th>3</th>\n",
       "      <td>605484T</td>\n",
       "      <td>W</td>\n",
       "      <td>M</td>\n",
       "      <td>Poston</td>\n",
       "      <td>Jerry</td>\n",
       "      <td>Poston, Jerry</td>\n",
       "      <td>605484T</td>\n",
       "      <td>2007-08-12</td>\n",
       "      <td>200 S. Stemmons Freeway</td>\n",
       "      <td>Other</td>\n",
       "      <td>...</td>\n",
       "      <td>Salinas, Nick L/M</td>\n",
       "      <td>1</td>\n",
       "      <td>Poston, Jerry W/M</td>\n",
       "      <td>1</td>\n",
       "      <td>See Summary</td>\n",
       "      <td>None</td>\n",
       "      <td>http://dallaspolice.net/reports/OIS/narrative/...</td>\n",
       "      <td>On Sunday, August 12, 2007, at approximately 2...</td>\n",
       "      <td>NaN</td>\n",
       "      <td>NaN</td>\n",
       "    </tr>\n",
       "    <tr>\n",
       "      <th>4</th>\n",
       "      <td>384832T</td>\n",
       "      <td>B</td>\n",
       "      <td>M</td>\n",
       "      <td>Mondy</td>\n",
       "      <td>Michael</td>\n",
       "      <td>Mondy, Michael</td>\n",
       "      <td>384832T</td>\n",
       "      <td>2007-05-26</td>\n",
       "      <td>7900 S. Loop 12</td>\n",
       "      <td>Shoot and Miss</td>\n",
       "      <td>...</td>\n",
       "      <td>Smith, James B/M; Dews, Antonio B/M; Spearman,...</td>\n",
       "      <td>3</td>\n",
       "      <td>Mondy, Michael B/M</td>\n",
       "      <td>1</td>\n",
       "      <td>None</td>\n",
       "      <td>None</td>\n",
       "      <td>http://dallaspolice.net/reports/OIS/narrative/...</td>\n",
       "      <td>On Saturday, May 26, 2007, at approximately 1:...</td>\n",
       "      <td>NaN</td>\n",
       "      <td>NaN</td>\n",
       "    </tr>\n",
       "  </tbody>\n",
       "</table>\n",
       "<p>5 rows × 21 columns</p>\n",
       "</div>"
      ],
      "text/plain": [
       "  case_number race gender  last_name first_name         full_name case_number  \\\n",
       "0      44523A    L      M     Patino    Michael   Patino, Michael      44523A   \n",
       "1      44523A    W      M  Fillingim      Brian  Fillingim, Brian      44523A   \n",
       "2     121982X    L      M    Padilla    Gilbert  Padilla, Gilbert     121982X   \n",
       "3     605484T    W      M     Poston      Jerry     Poston, Jerry     605484T   \n",
       "4     384832T    B      M      Mondy    Michael    Mondy, Michael     384832T   \n",
       "\n",
       "         date                  location subject_statuses  ...  \\\n",
       "0  2013-02-23     3000 Chihuahua Street          Injured  ...   \n",
       "1  2013-02-23     3000 Chihuahua Street          Injured  ...   \n",
       "2  2010-05-03  1300 N. Munger Boulevard          Injured  ...   \n",
       "3  2007-08-12   200 S. Stemmons Freeway            Other  ...   \n",
       "4  2007-05-26           7900 S. Loop 12   Shoot and Miss  ...   \n",
       "\n",
       "                                            subjects subject_count  \\\n",
       "0                                   Curry, James L/M             1   \n",
       "1                                   Curry, James L/M             1   \n",
       "2                                Chavez, Gabriel L/M             1   \n",
       "3                                  Salinas, Nick L/M             1   \n",
       "4  Smith, James B/M; Dews, Antonio B/M; Spearman,...             3   \n",
       "\n",
       "                                    officers officer_count  \\\n",
       "0  Patino, Michael L/M; Fillingim, Brian W/M             2   \n",
       "1  Patino, Michael L/M; Fillingim, Brian W/M             2   \n",
       "2                       Padilla, Gilbert L/M             1   \n",
       "3                          Poston, Jerry W/M             1   \n",
       "4                         Mondy, Michael B/M             1   \n",
       "\n",
       "   grand_jury_disposition attorney_general_forms_url  \\\n",
       "0                 No Bill                       None   \n",
       "1                 No Bill                       None   \n",
       "2                 No Bill                       None   \n",
       "3             See Summary                       None   \n",
       "4                    None                       None   \n",
       "\n",
       "                                         summary_url  \\\n",
       "0  http://dallaspolice.net/reports/OIS/narrative/...   \n",
       "1  http://dallaspolice.net/reports/OIS/narrative/...   \n",
       "2  http://dallaspolice.net/reports/OIS/narrative/...   \n",
       "3  http://dallaspolice.net/reports/OIS/narrative/...   \n",
       "4  http://dallaspolice.net/reports/OIS/narrative/...   \n",
       "\n",
       "                                        summary_text latitude  longitude  \n",
       "0  On Saturday, February 23, 2013, at approximate...      NaN        NaN  \n",
       "1  On Saturday, February 23, 2013, at approximate...      NaN        NaN  \n",
       "2  On Monday, May 3, 2010, at approximately 8:06 ...      NaN        NaN  \n",
       "3  On Sunday, August 12, 2007, at approximately 2...      NaN        NaN  \n",
       "4  On Saturday, May 26, 2007, at approximately 1:...      NaN        NaN  \n",
       "\n",
       "[5 rows x 21 columns]"
      ]
     },
     "execution_count": 11,
     "metadata": {},
     "output_type": "execute_result"
    }
   ],
   "source": [
    "officers.head()"
   ]
  }
 ],
 "metadata": {
  "kernelspec": {
   "display_name": "Python 3.9.6 64-bit",
   "language": "python",
   "name": "python3"
  },
  "language_info": {
   "codemirror_mode": {
    "name": "ipython",
    "version": 3
   },
   "file_extension": ".py",
   "mimetype": "text/x-python",
   "name": "python",
   "nbconvert_exporter": "python",
   "pygments_lexer": "ipython3",
   "version": "3.9.6"
  },
  "orig_nbformat": 4,
  "vscode": {
   "interpreter": {
    "hash": "2ea6e2759401c72f93fb16ffa300c72a8dd4ce3e55d7cb63d922513c12242f9b"
   }
  }
 },
 "nbformat": 4,
 "nbformat_minor": 2
}
