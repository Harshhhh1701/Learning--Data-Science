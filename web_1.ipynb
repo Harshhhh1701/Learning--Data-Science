{
 "cells": [
  {
   "cell_type": "code",
   "execution_count": 2,
   "metadata": {},
   "outputs": [],
   "source": [
    "import pandas as pd \n"
   ]
  },
  {
   "cell_type": "code",
   "execution_count": 3,
   "metadata": {},
   "outputs": [],
   "source": [
    "url=\"https://en.wikipedia.org/wiki/Wikipedia:Fundraising_statistics\""
   ]
  },
  {
   "cell_type": "code",
   "execution_count": 4,
   "metadata": {},
   "outputs": [],
   "source": [
    "data=pd.read_html(url)"
   ]
  },
  {
   "cell_type": "code",
   "execution_count": 5,
   "metadata": {},
   "outputs": [
    {
     "data": {
      "text/plain": [
       "list"
      ]
     },
     "execution_count": 5,
     "metadata": {},
     "output_type": "execute_result"
    }
   ],
   "source": [
    "type(data)"
   ]
  },
  {
   "cell_type": "code",
   "execution_count": 6,
   "metadata": {},
   "outputs": [
    {
     "data": {
      "text/html": [
       "<div>\n",
       "<style scoped>\n",
       "    .dataframe tbody tr th:only-of-type {\n",
       "        vertical-align: middle;\n",
       "    }\n",
       "\n",
       "    .dataframe tbody tr th {\n",
       "        vertical-align: top;\n",
       "    }\n",
       "\n",
       "    .dataframe thead th {\n",
       "        text-align: right;\n",
       "    }\n",
       "</style>\n",
       "<table border=\"1\" class=\"dataframe\">\n",
       "  <thead>\n",
       "    <tr style=\"text-align: right;\">\n",
       "      <th></th>\n",
       "      <th>Year</th>\n",
       "      <th>Source</th>\n",
       "      <th>Revenue</th>\n",
       "      <th>Expenses</th>\n",
       "      <th>Asset rise</th>\n",
       "      <th>Total assets</th>\n",
       "    </tr>\n",
       "  </thead>\n",
       "  <tbody>\n",
       "    <tr>\n",
       "      <th>0</th>\n",
       "      <td>2020/2021</td>\n",
       "      <td>PDF</td>\n",
       "      <td>$ 162,886,686</td>\n",
       "      <td>$ 111,839,819</td>\n",
       "      <td>$ 50,861,811</td>\n",
       "      <td>$ 231,177,536</td>\n",
       "    </tr>\n",
       "    <tr>\n",
       "      <th>1</th>\n",
       "      <td>2019/2020</td>\n",
       "      <td>PDF</td>\n",
       "      <td>$ 129,234,327</td>\n",
       "      <td>$ 112,489,397</td>\n",
       "      <td>$ 14,674,300</td>\n",
       "      <td>$ 180,315,725</td>\n",
       "    </tr>\n",
       "    <tr>\n",
       "      <th>2</th>\n",
       "      <td>2018/2019</td>\n",
       "      <td>PDF</td>\n",
       "      <td>$ 120,067,266</td>\n",
       "      <td>$ 91,414,010</td>\n",
       "      <td>$ 30,691,855</td>\n",
       "      <td>$ 165,641,425</td>\n",
       "    </tr>\n",
       "    <tr>\n",
       "      <th>3</th>\n",
       "      <td>2017/2018</td>\n",
       "      <td>PDF</td>\n",
       "      <td>$ 104,505,783</td>\n",
       "      <td>$ 81,442,265</td>\n",
       "      <td>$ 21,619,373</td>\n",
       "      <td>$ 134,949,570</td>\n",
       "    </tr>\n",
       "    <tr>\n",
       "      <th>4</th>\n",
       "      <td>2016/2017</td>\n",
       "      <td>PDF</td>\n",
       "      <td>$ 91,242,418</td>\n",
       "      <td>$ 69,136,758</td>\n",
       "      <td>$ 21,547,402</td>\n",
       "      <td>$ 113,330,197</td>\n",
       "    </tr>\n",
       "  </tbody>\n",
       "</table>\n",
       "</div>"
      ],
      "text/plain": [
       "        Year Source        Revenue       Expenses    Asset rise   Total assets\n",
       "0  2020/2021    PDF  $ 162,886,686  $ 111,839,819  $ 50,861,811  $ 231,177,536\n",
       "1  2019/2020    PDF  $ 129,234,327  $ 112,489,397  $ 14,674,300  $ 180,315,725\n",
       "2  2018/2019    PDF  $ 120,067,266   $ 91,414,010  $ 30,691,855  $ 165,641,425\n",
       "3  2017/2018    PDF  $ 104,505,783   $ 81,442,265  $ 21,619,373  $ 134,949,570\n",
       "4  2016/2017    PDF   $ 91,242,418   $ 69,136,758  $ 21,547,402  $ 113,330,197"
      ]
     },
     "execution_count": 6,
     "metadata": {},
     "output_type": "execute_result"
    }
   ],
   "source": [
    "data[0].head()"
   ]
  },
  {
   "cell_type": "code",
   "execution_count": 7,
   "metadata": {},
   "outputs": [],
   "source": [
    "fund=data[0]"
   ]
  },
  {
   "cell_type": "code",
   "execution_count": 8,
   "metadata": {},
   "outputs": [
    {
     "data": {
      "text/plain": [
       "Year            object\n",
       "Source          object\n",
       "Revenue         object\n",
       "Expenses        object\n",
       "Asset rise      object\n",
       "Total assets    object\n",
       "dtype: object"
      ]
     },
     "execution_count": 8,
     "metadata": {},
     "output_type": "execute_result"
    }
   ],
   "source": [
    "fund.dtypes"
   ]
  },
  {
   "cell_type": "code",
   "execution_count": 12,
   "metadata": {},
   "outputs": [
    {
     "data": {
      "text/html": [
       "<div>\n",
       "<style scoped>\n",
       "    .dataframe tbody tr th:only-of-type {\n",
       "        vertical-align: middle;\n",
       "    }\n",
       "\n",
       "    .dataframe tbody tr th {\n",
       "        vertical-align: top;\n",
       "    }\n",
       "\n",
       "    .dataframe thead th {\n",
       "        text-align: right;\n",
       "    }\n",
       "</style>\n",
       "<table border=\"1\" class=\"dataframe\">\n",
       "  <thead>\n",
       "    <tr style=\"text-align: right;\">\n",
       "      <th></th>\n",
       "      <th>Year</th>\n",
       "      <th>Source</th>\n",
       "      <th>Revenue</th>\n",
       "      <th>Expenses</th>\n",
       "      <th>Asset rise</th>\n",
       "      <th>Total assets</th>\n",
       "      <th>Exp</th>\n",
       "    </tr>\n",
       "  </thead>\n",
       "  <tbody>\n",
       "    <tr>\n",
       "      <th>0</th>\n",
       "      <td>2020/2021</td>\n",
       "      <td>PDF</td>\n",
       "      <td>$ 162,886,686</td>\n",
       "      <td>$ 111,839,819</td>\n",
       "      <td>$ 50,861,811</td>\n",
       "      <td>$ 231,177,536</td>\n",
       "      <td>111839819</td>\n",
       "    </tr>\n",
       "    <tr>\n",
       "      <th>1</th>\n",
       "      <td>2019/2020</td>\n",
       "      <td>PDF</td>\n",
       "      <td>$ 129,234,327</td>\n",
       "      <td>$ 112,489,397</td>\n",
       "      <td>$ 14,674,300</td>\n",
       "      <td>$ 180,315,725</td>\n",
       "      <td>112489397</td>\n",
       "    </tr>\n",
       "    <tr>\n",
       "      <th>2</th>\n",
       "      <td>2018/2019</td>\n",
       "      <td>PDF</td>\n",
       "      <td>$ 120,067,266</td>\n",
       "      <td>$ 91,414,010</td>\n",
       "      <td>$ 30,691,855</td>\n",
       "      <td>$ 165,641,425</td>\n",
       "      <td>91414010</td>\n",
       "    </tr>\n",
       "    <tr>\n",
       "      <th>3</th>\n",
       "      <td>2017/2018</td>\n",
       "      <td>PDF</td>\n",
       "      <td>$ 104,505,783</td>\n",
       "      <td>$ 81,442,265</td>\n",
       "      <td>$ 21,619,373</td>\n",
       "      <td>$ 134,949,570</td>\n",
       "      <td>81442265</td>\n",
       "    </tr>\n",
       "    <tr>\n",
       "      <th>4</th>\n",
       "      <td>2016/2017</td>\n",
       "      <td>PDF</td>\n",
       "      <td>$ 91,242,418</td>\n",
       "      <td>$ 69,136,758</td>\n",
       "      <td>$ 21,547,402</td>\n",
       "      <td>$ 113,330,197</td>\n",
       "      <td>69136758</td>\n",
       "    </tr>\n",
       "  </tbody>\n",
       "</table>\n",
       "</div>"
      ],
      "text/plain": [
       "        Year Source        Revenue       Expenses    Asset rise  \\\n",
       "0  2020/2021    PDF  $ 162,886,686  $ 111,839,819  $ 50,861,811   \n",
       "1  2019/2020    PDF  $ 129,234,327  $ 112,489,397  $ 14,674,300   \n",
       "2  2018/2019    PDF  $ 120,067,266   $ 91,414,010  $ 30,691,855   \n",
       "3  2017/2018    PDF  $ 104,505,783   $ 81,442,265  $ 21,619,373   \n",
       "4  2016/2017    PDF   $ 91,242,418   $ 69,136,758  $ 21,547,402   \n",
       "\n",
       "    Total assets        Exp  \n",
       "0  $ 231,177,536  111839819  \n",
       "1  $ 180,315,725  112489397  \n",
       "2  $ 165,641,425   91414010  \n",
       "3  $ 134,949,570   81442265  \n",
       "4  $ 113,330,197   69136758  "
      ]
     },
     "execution_count": 12,
     "metadata": {},
     "output_type": "execute_result"
    }
   ],
   "source": [
    "fund['Exp']=fund['Expenses'].str[2:]\n",
    "fund['Exp']=fund['Exp'].str.replace(',','')\n",
    "fund.head()"
   ]
  },
  {
   "cell_type": "code",
   "execution_count": 13,
   "metadata": {},
   "outputs": [],
   "source": [
    "fund['Exp']=pd.to_numeric(fund['Exp'])"
   ]
  },
  {
   "cell_type": "code",
   "execution_count": 14,
   "metadata": {},
   "outputs": [
    {
     "data": {
      "text/plain": [
       "Year            object\n",
       "Source          object\n",
       "Revenue         object\n",
       "Expenses        object\n",
       "Asset rise      object\n",
       "Total assets    object\n",
       "Exp              int64\n",
       "dtype: object"
      ]
     },
     "execution_count": 14,
     "metadata": {},
     "output_type": "execute_result"
    }
   ],
   "source": [
    "fund.dtypes"
   ]
  },
  {
   "cell_type": "code",
   "execution_count": 15,
   "metadata": {},
   "outputs": [
    {
     "data": {
      "text/plain": [
       "Year            object\n",
       "Source          object\n",
       "Revenue         object\n",
       "Expenses        object\n",
       "Asset rise      object\n",
       "Total assets    object\n",
       "Exp              int64\n",
       "Rev             object\n",
       "dtype: object"
      ]
     },
     "execution_count": 15,
     "metadata": {},
     "output_type": "execute_result"
    }
   ],
   "source": [
    "fund['Rev']=fund['Revenue'].str[2:]\n",
    "fund['Rev']=fund['Rev'].str.replace(',','')\n",
    "fund.dtypes"
   ]
  },
  {
   "cell_type": "code",
   "execution_count": 16,
   "metadata": {},
   "outputs": [
    {
     "data": {
      "text/html": [
       "<div>\n",
       "<style scoped>\n",
       "    .dataframe tbody tr th:only-of-type {\n",
       "        vertical-align: middle;\n",
       "    }\n",
       "\n",
       "    .dataframe tbody tr th {\n",
       "        vertical-align: top;\n",
       "    }\n",
       "\n",
       "    .dataframe thead th {\n",
       "        text-align: right;\n",
       "    }\n",
       "</style>\n",
       "<table border=\"1\" class=\"dataframe\">\n",
       "  <thead>\n",
       "    <tr style=\"text-align: right;\">\n",
       "      <th></th>\n",
       "      <th>Year</th>\n",
       "      <th>Source</th>\n",
       "      <th>Revenue</th>\n",
       "      <th>Expenses</th>\n",
       "      <th>Asset rise</th>\n",
       "      <th>Total assets</th>\n",
       "      <th>Exp</th>\n",
       "      <th>Rev</th>\n",
       "    </tr>\n",
       "  </thead>\n",
       "  <tbody>\n",
       "    <tr>\n",
       "      <th>0</th>\n",
       "      <td>2020/2021</td>\n",
       "      <td>PDF</td>\n",
       "      <td>$ 162,886,686</td>\n",
       "      <td>$ 111,839,819</td>\n",
       "      <td>$ 50,861,811</td>\n",
       "      <td>$ 231,177,536</td>\n",
       "      <td>111839819</td>\n",
       "      <td>162886686</td>\n",
       "    </tr>\n",
       "    <tr>\n",
       "      <th>1</th>\n",
       "      <td>2019/2020</td>\n",
       "      <td>PDF</td>\n",
       "      <td>$ 129,234,327</td>\n",
       "      <td>$ 112,489,397</td>\n",
       "      <td>$ 14,674,300</td>\n",
       "      <td>$ 180,315,725</td>\n",
       "      <td>112489397</td>\n",
       "      <td>129234327</td>\n",
       "    </tr>\n",
       "    <tr>\n",
       "      <th>2</th>\n",
       "      <td>2018/2019</td>\n",
       "      <td>PDF</td>\n",
       "      <td>$ 120,067,266</td>\n",
       "      <td>$ 91,414,010</td>\n",
       "      <td>$ 30,691,855</td>\n",
       "      <td>$ 165,641,425</td>\n",
       "      <td>91414010</td>\n",
       "      <td>120067266</td>\n",
       "    </tr>\n",
       "    <tr>\n",
       "      <th>3</th>\n",
       "      <td>2017/2018</td>\n",
       "      <td>PDF</td>\n",
       "      <td>$ 104,505,783</td>\n",
       "      <td>$ 81,442,265</td>\n",
       "      <td>$ 21,619,373</td>\n",
       "      <td>$ 134,949,570</td>\n",
       "      <td>81442265</td>\n",
       "      <td>104505783</td>\n",
       "    </tr>\n",
       "    <tr>\n",
       "      <th>4</th>\n",
       "      <td>2016/2017</td>\n",
       "      <td>PDF</td>\n",
       "      <td>$ 91,242,418</td>\n",
       "      <td>$ 69,136,758</td>\n",
       "      <td>$ 21,547,402</td>\n",
       "      <td>$ 113,330,197</td>\n",
       "      <td>69136758</td>\n",
       "      <td>91242418</td>\n",
       "    </tr>\n",
       "  </tbody>\n",
       "</table>\n",
       "</div>"
      ],
      "text/plain": [
       "        Year Source        Revenue       Expenses    Asset rise  \\\n",
       "0  2020/2021    PDF  $ 162,886,686  $ 111,839,819  $ 50,861,811   \n",
       "1  2019/2020    PDF  $ 129,234,327  $ 112,489,397  $ 14,674,300   \n",
       "2  2018/2019    PDF  $ 120,067,266   $ 91,414,010  $ 30,691,855   \n",
       "3  2017/2018    PDF  $ 104,505,783   $ 81,442,265  $ 21,619,373   \n",
       "4  2016/2017    PDF   $ 91,242,418   $ 69,136,758  $ 21,547,402   \n",
       "\n",
       "    Total assets        Exp        Rev  \n",
       "0  $ 231,177,536  111839819  162886686  \n",
       "1  $ 180,315,725  112489397  129234327  \n",
       "2  $ 165,641,425   91414010  120067266  \n",
       "3  $ 134,949,570   81442265  104505783  \n",
       "4  $ 113,330,197   69136758   91242418  "
      ]
     },
     "execution_count": 16,
     "metadata": {},
     "output_type": "execute_result"
    }
   ],
   "source": [
    "fund.head()"
   ]
  },
  {
   "cell_type": "code",
   "execution_count": 17,
   "metadata": {},
   "outputs": [],
   "source": [
    "fund.loc[0,'Rev']='spam'"
   ]
  },
  {
   "cell_type": "code",
   "execution_count": 18,
   "metadata": {},
   "outputs": [
    {
     "data": {
      "text/html": [
       "<div>\n",
       "<style scoped>\n",
       "    .dataframe tbody tr th:only-of-type {\n",
       "        vertical-align: middle;\n",
       "    }\n",
       "\n",
       "    .dataframe tbody tr th {\n",
       "        vertical-align: top;\n",
       "    }\n",
       "\n",
       "    .dataframe thead th {\n",
       "        text-align: right;\n",
       "    }\n",
       "</style>\n",
       "<table border=\"1\" class=\"dataframe\">\n",
       "  <thead>\n",
       "    <tr style=\"text-align: right;\">\n",
       "      <th></th>\n",
       "      <th>Year</th>\n",
       "      <th>Source</th>\n",
       "      <th>Revenue</th>\n",
       "      <th>Expenses</th>\n",
       "      <th>Asset rise</th>\n",
       "      <th>Total assets</th>\n",
       "      <th>Exp</th>\n",
       "      <th>Rev</th>\n",
       "    </tr>\n",
       "  </thead>\n",
       "  <tbody>\n",
       "    <tr>\n",
       "      <th>0</th>\n",
       "      <td>2020/2021</td>\n",
       "      <td>PDF</td>\n",
       "      <td>$ 162,886,686</td>\n",
       "      <td>$ 111,839,819</td>\n",
       "      <td>$ 50,861,811</td>\n",
       "      <td>$ 231,177,536</td>\n",
       "      <td>111839819</td>\n",
       "      <td>spam</td>\n",
       "    </tr>\n",
       "    <tr>\n",
       "      <th>1</th>\n",
       "      <td>2019/2020</td>\n",
       "      <td>PDF</td>\n",
       "      <td>$ 129,234,327</td>\n",
       "      <td>$ 112,489,397</td>\n",
       "      <td>$ 14,674,300</td>\n",
       "      <td>$ 180,315,725</td>\n",
       "      <td>112489397</td>\n",
       "      <td>129234327</td>\n",
       "    </tr>\n",
       "    <tr>\n",
       "      <th>2</th>\n",
       "      <td>2018/2019</td>\n",
       "      <td>PDF</td>\n",
       "      <td>$ 120,067,266</td>\n",
       "      <td>$ 91,414,010</td>\n",
       "      <td>$ 30,691,855</td>\n",
       "      <td>$ 165,641,425</td>\n",
       "      <td>91414010</td>\n",
       "      <td>120067266</td>\n",
       "    </tr>\n",
       "    <tr>\n",
       "      <th>3</th>\n",
       "      <td>2017/2018</td>\n",
       "      <td>PDF</td>\n",
       "      <td>$ 104,505,783</td>\n",
       "      <td>$ 81,442,265</td>\n",
       "      <td>$ 21,619,373</td>\n",
       "      <td>$ 134,949,570</td>\n",
       "      <td>81442265</td>\n",
       "      <td>104505783</td>\n",
       "    </tr>\n",
       "    <tr>\n",
       "      <th>4</th>\n",
       "      <td>2016/2017</td>\n",
       "      <td>PDF</td>\n",
       "      <td>$ 91,242,418</td>\n",
       "      <td>$ 69,136,758</td>\n",
       "      <td>$ 21,547,402</td>\n",
       "      <td>$ 113,330,197</td>\n",
       "      <td>69136758</td>\n",
       "      <td>91242418</td>\n",
       "    </tr>\n",
       "  </tbody>\n",
       "</table>\n",
       "</div>"
      ],
      "text/plain": [
       "        Year Source        Revenue       Expenses    Asset rise  \\\n",
       "0  2020/2021    PDF  $ 162,886,686  $ 111,839,819  $ 50,861,811   \n",
       "1  2019/2020    PDF  $ 129,234,327  $ 112,489,397  $ 14,674,300   \n",
       "2  2018/2019    PDF  $ 120,067,266   $ 91,414,010  $ 30,691,855   \n",
       "3  2017/2018    PDF  $ 104,505,783   $ 81,442,265  $ 21,619,373   \n",
       "4  2016/2017    PDF   $ 91,242,418   $ 69,136,758  $ 21,547,402   \n",
       "\n",
       "    Total assets        Exp        Rev  \n",
       "0  $ 231,177,536  111839819       spam  \n",
       "1  $ 180,315,725  112489397  129234327  \n",
       "2  $ 165,641,425   91414010  120067266  \n",
       "3  $ 134,949,570   81442265  104505783  \n",
       "4  $ 113,330,197   69136758   91242418  "
      ]
     },
     "execution_count": 18,
     "metadata": {},
     "output_type": "execute_result"
    }
   ],
   "source": [
    "fund.head()"
   ]
  },
  {
   "cell_type": "code",
   "execution_count": 20,
   "metadata": {},
   "outputs": [],
   "source": [
    "fund['Rev']=pd.to_numeric(fund['Rev'],errors='coerce')"
   ]
  },
  {
   "cell_type": "code",
   "execution_count": 21,
   "metadata": {},
   "outputs": [
    {
     "data": {
      "text/html": [
       "<div>\n",
       "<style scoped>\n",
       "    .dataframe tbody tr th:only-of-type {\n",
       "        vertical-align: middle;\n",
       "    }\n",
       "\n",
       "    .dataframe tbody tr th {\n",
       "        vertical-align: top;\n",
       "    }\n",
       "\n",
       "    .dataframe thead th {\n",
       "        text-align: right;\n",
       "    }\n",
       "</style>\n",
       "<table border=\"1\" class=\"dataframe\">\n",
       "  <thead>\n",
       "    <tr style=\"text-align: right;\">\n",
       "      <th></th>\n",
       "      <th>Year</th>\n",
       "      <th>Source</th>\n",
       "      <th>Revenue</th>\n",
       "      <th>Expenses</th>\n",
       "      <th>Asset rise</th>\n",
       "      <th>Total assets</th>\n",
       "      <th>Exp</th>\n",
       "      <th>Rev</th>\n",
       "    </tr>\n",
       "  </thead>\n",
       "  <tbody>\n",
       "    <tr>\n",
       "      <th>0</th>\n",
       "      <td>2020/2021</td>\n",
       "      <td>PDF</td>\n",
       "      <td>$ 162,886,686</td>\n",
       "      <td>$ 111,839,819</td>\n",
       "      <td>$ 50,861,811</td>\n",
       "      <td>$ 231,177,536</td>\n",
       "      <td>111839819</td>\n",
       "      <td>NaN</td>\n",
       "    </tr>\n",
       "    <tr>\n",
       "      <th>1</th>\n",
       "      <td>2019/2020</td>\n",
       "      <td>PDF</td>\n",
       "      <td>$ 129,234,327</td>\n",
       "      <td>$ 112,489,397</td>\n",
       "      <td>$ 14,674,300</td>\n",
       "      <td>$ 180,315,725</td>\n",
       "      <td>112489397</td>\n",
       "      <td>129234327.0</td>\n",
       "    </tr>\n",
       "    <tr>\n",
       "      <th>2</th>\n",
       "      <td>2018/2019</td>\n",
       "      <td>PDF</td>\n",
       "      <td>$ 120,067,266</td>\n",
       "      <td>$ 91,414,010</td>\n",
       "      <td>$ 30,691,855</td>\n",
       "      <td>$ 165,641,425</td>\n",
       "      <td>91414010</td>\n",
       "      <td>120067266.0</td>\n",
       "    </tr>\n",
       "    <tr>\n",
       "      <th>3</th>\n",
       "      <td>2017/2018</td>\n",
       "      <td>PDF</td>\n",
       "      <td>$ 104,505,783</td>\n",
       "      <td>$ 81,442,265</td>\n",
       "      <td>$ 21,619,373</td>\n",
       "      <td>$ 134,949,570</td>\n",
       "      <td>81442265</td>\n",
       "      <td>104505783.0</td>\n",
       "    </tr>\n",
       "    <tr>\n",
       "      <th>4</th>\n",
       "      <td>2016/2017</td>\n",
       "      <td>PDF</td>\n",
       "      <td>$ 91,242,418</td>\n",
       "      <td>$ 69,136,758</td>\n",
       "      <td>$ 21,547,402</td>\n",
       "      <td>$ 113,330,197</td>\n",
       "      <td>69136758</td>\n",
       "      <td>91242418.0</td>\n",
       "    </tr>\n",
       "  </tbody>\n",
       "</table>\n",
       "</div>"
      ],
      "text/plain": [
       "        Year Source        Revenue       Expenses    Asset rise  \\\n",
       "0  2020/2021    PDF  $ 162,886,686  $ 111,839,819  $ 50,861,811   \n",
       "1  2019/2020    PDF  $ 129,234,327  $ 112,489,397  $ 14,674,300   \n",
       "2  2018/2019    PDF  $ 120,067,266   $ 91,414,010  $ 30,691,855   \n",
       "3  2017/2018    PDF  $ 104,505,783   $ 81,442,265  $ 21,619,373   \n",
       "4  2016/2017    PDF   $ 91,242,418   $ 69,136,758  $ 21,547,402   \n",
       "\n",
       "    Total assets        Exp          Rev  \n",
       "0  $ 231,177,536  111839819          NaN  \n",
       "1  $ 180,315,725  112489397  129234327.0  \n",
       "2  $ 165,641,425   91414010  120067266.0  \n",
       "3  $ 134,949,570   81442265  104505783.0  \n",
       "4  $ 113,330,197   69136758   91242418.0  "
      ]
     },
     "execution_count": 21,
     "metadata": {},
     "output_type": "execute_result"
    }
   ],
   "source": [
    "fund.head()"
   ]
  },
  {
   "cell_type": "code",
   "execution_count": 22,
   "metadata": {},
   "outputs": [
    {
     "data": {
      "text/plain": [
       "Year             object\n",
       "Source           object\n",
       "Revenue          object\n",
       "Expenses         object\n",
       "Asset rise       object\n",
       "Total assets     object\n",
       "Exp               int64\n",
       "Rev             float64\n",
       "dtype: object"
      ]
     },
     "execution_count": 22,
     "metadata": {},
     "output_type": "execute_result"
    }
   ],
   "source": [
    "fund.dtypes"
   ]
  }
 ],
 "metadata": {
  "kernelspec": {
   "display_name": "Python 3.9.6 64-bit",
   "language": "python",
   "name": "python3"
  },
  "language_info": {
   "codemirror_mode": {
    "name": "ipython",
    "version": 3
   },
   "file_extension": ".py",
   "mimetype": "text/x-python",
   "name": "python",
   "nbconvert_exporter": "python",
   "pygments_lexer": "ipython3",
   "version": "3.9.6"
  },
  "orig_nbformat": 4,
  "vscode": {
   "interpreter": {
    "hash": "2ea6e2759401c72f93fb16ffa300c72a8dd4ce3e55d7cb63d922513c12242f9b"
   }
  }
 },
 "nbformat": 4,
 "nbformat_minor": 2
}
