{
 "cells": [
  {
   "cell_type": "code",
   "execution_count": 1,
   "metadata": {},
   "outputs": [],
   "source": [
    "import sqlite3\n",
    "import pandas as pd \n",
    "import matplotlib.pyplot as plt \n",
    "%matplotlib inline"
   ]
  },
  {
   "cell_type": "code",
   "execution_count": 2,
   "metadata": {},
   "outputs": [],
   "source": [
    "conn=sqlite3.connect('files/dallas-ois.sqlite')"
   ]
  },
  {
   "cell_type": "code",
   "execution_count": 3,
   "metadata": {},
   "outputs": [],
   "source": [
    "incident=pd.read_sql(\"SELECT * FROM incidents\",conn)\n",
    "officers=pd.read_sql(\"SELECT * FROM officers\",conn)\n",
    "subject=pd.read_sql(\"SELECT * FROM subjects\",conn)"
   ]
  },
  {
   "cell_type": "code",
   "execution_count": 4,
   "metadata": {},
   "outputs": [
    {
     "data": {
      "text/plain": [
       "(219, 370, 223)"
      ]
     },
     "execution_count": 4,
     "metadata": {},
     "output_type": "execute_result"
    }
   ],
   "source": [
    "len(incident),len(officers),len(subject)"
   ]
  },
  {
   "cell_type": "code",
   "execution_count": 7,
   "metadata": {},
   "outputs": [],
   "source": [
    "subject_incidents=pd.read_sql('select * from subjects join incidents on subjects.case_number=incidents.case_number ',conn)"
   ]
  },
  {
   "cell_type": "code",
   "execution_count": 8,
   "metadata": {},
   "outputs": [
    {
     "data": {
      "text/plain": [
       "223"
      ]
     },
     "execution_count": 8,
     "metadata": {},
     "output_type": "execute_result"
    }
   ],
   "source": [
    "len(subject_incidents)"
   ]
  },
  {
   "cell_type": "code",
   "execution_count": 9,
   "metadata": {},
   "outputs": [
    {
     "data": {
      "text/html": [
       "<div>\n",
       "<style scoped>\n",
       "    .dataframe tbody tr th:only-of-type {\n",
       "        vertical-align: middle;\n",
       "    }\n",
       "\n",
       "    .dataframe tbody tr th {\n",
       "        vertical-align: top;\n",
       "    }\n",
       "\n",
       "    .dataframe thead th {\n",
       "        text-align: right;\n",
       "    }\n",
       "</style>\n",
       "<table border=\"1\" class=\"dataframe\">\n",
       "  <thead>\n",
       "    <tr style=\"text-align: right;\">\n",
       "      <th></th>\n",
       "      <th>case_number</th>\n",
       "      <th>race</th>\n",
       "      <th>gender</th>\n",
       "      <th>last_name</th>\n",
       "      <th>first_name</th>\n",
       "      <th>full_name</th>\n",
       "      <th>case_number</th>\n",
       "      <th>date</th>\n",
       "      <th>location</th>\n",
       "      <th>subject_statuses</th>\n",
       "      <th>...</th>\n",
       "      <th>subjects</th>\n",
       "      <th>subject_count</th>\n",
       "      <th>officers</th>\n",
       "      <th>officer_count</th>\n",
       "      <th>grand_jury_disposition</th>\n",
       "      <th>attorney_general_forms_url</th>\n",
       "      <th>summary_url</th>\n",
       "      <th>summary_text</th>\n",
       "      <th>latitude</th>\n",
       "      <th>longitude</th>\n",
       "    </tr>\n",
       "  </thead>\n",
       "  <tbody>\n",
       "    <tr>\n",
       "      <th>0</th>\n",
       "      <td>44523A</td>\n",
       "      <td>L</td>\n",
       "      <td>M</td>\n",
       "      <td>Curry</td>\n",
       "      <td>James</td>\n",
       "      <td>Curry, James</td>\n",
       "      <td>44523A</td>\n",
       "      <td>2013-02-23</td>\n",
       "      <td>3000 Chihuahua Street</td>\n",
       "      <td>Injured</td>\n",
       "      <td>...</td>\n",
       "      <td>Curry, James L/M</td>\n",
       "      <td>1</td>\n",
       "      <td>Patino, Michael L/M; Fillingim, Brian W/M</td>\n",
       "      <td>2</td>\n",
       "      <td>No Bill</td>\n",
       "      <td>None</td>\n",
       "      <td>http://dallaspolice.net/reports/OIS/narrative/...</td>\n",
       "      <td>On Saturday, February 23, 2013, at approximate...</td>\n",
       "      <td>NaN</td>\n",
       "      <td>NaN</td>\n",
       "    </tr>\n",
       "    <tr>\n",
       "      <th>1</th>\n",
       "      <td>121982X</td>\n",
       "      <td>L</td>\n",
       "      <td>M</td>\n",
       "      <td>Chavez</td>\n",
       "      <td>Gabriel</td>\n",
       "      <td>Chavez, Gabriel</td>\n",
       "      <td>121982X</td>\n",
       "      <td>2010-05-03</td>\n",
       "      <td>1300 N. Munger Boulevard</td>\n",
       "      <td>Injured</td>\n",
       "      <td>...</td>\n",
       "      <td>Chavez, Gabriel L/M</td>\n",
       "      <td>1</td>\n",
       "      <td>Padilla, Gilbert L/M</td>\n",
       "      <td>1</td>\n",
       "      <td>No Bill</td>\n",
       "      <td>None</td>\n",
       "      <td>http://dallaspolice.net/reports/OIS/narrative/...</td>\n",
       "      <td>On Monday, May 3, 2010, at approximately 8:06 ...</td>\n",
       "      <td>NaN</td>\n",
       "      <td>NaN</td>\n",
       "    </tr>\n",
       "    <tr>\n",
       "      <th>2</th>\n",
       "      <td>605484T</td>\n",
       "      <td>L</td>\n",
       "      <td>M</td>\n",
       "      <td>Salinas</td>\n",
       "      <td>Nick</td>\n",
       "      <td>Salinas, Nick</td>\n",
       "      <td>605484T</td>\n",
       "      <td>2007-08-12</td>\n",
       "      <td>200 S. Stemmons Freeway</td>\n",
       "      <td>Other</td>\n",
       "      <td>...</td>\n",
       "      <td>Salinas, Nick L/M</td>\n",
       "      <td>1</td>\n",
       "      <td>Poston, Jerry W/M</td>\n",
       "      <td>1</td>\n",
       "      <td>See Summary</td>\n",
       "      <td>None</td>\n",
       "      <td>http://dallaspolice.net/reports/OIS/narrative/...</td>\n",
       "      <td>On Sunday, August 12, 2007, at approximately 2...</td>\n",
       "      <td>NaN</td>\n",
       "      <td>NaN</td>\n",
       "    </tr>\n",
       "    <tr>\n",
       "      <th>3</th>\n",
       "      <td>384832T</td>\n",
       "      <td>B</td>\n",
       "      <td>M</td>\n",
       "      <td>Smith</td>\n",
       "      <td>James</td>\n",
       "      <td>Smith, James</td>\n",
       "      <td>384832T</td>\n",
       "      <td>2007-05-26</td>\n",
       "      <td>7900 S. Loop 12</td>\n",
       "      <td>Shoot and Miss</td>\n",
       "      <td>...</td>\n",
       "      <td>Smith, James B/M; Dews, Antonio B/M; Spearman,...</td>\n",
       "      <td>3</td>\n",
       "      <td>Mondy, Michael B/M</td>\n",
       "      <td>1</td>\n",
       "      <td>None</td>\n",
       "      <td>None</td>\n",
       "      <td>http://dallaspolice.net/reports/OIS/narrative/...</td>\n",
       "      <td>On Saturday, May 26, 2007, at approximately 1:...</td>\n",
       "      <td>NaN</td>\n",
       "      <td>NaN</td>\n",
       "    </tr>\n",
       "    <tr>\n",
       "      <th>4</th>\n",
       "      <td>384832T</td>\n",
       "      <td>B</td>\n",
       "      <td>M</td>\n",
       "      <td>Dews</td>\n",
       "      <td>Antonio</td>\n",
       "      <td>Dews, Antonio</td>\n",
       "      <td>384832T</td>\n",
       "      <td>2007-05-26</td>\n",
       "      <td>7900 S. Loop 12</td>\n",
       "      <td>Shoot and Miss</td>\n",
       "      <td>...</td>\n",
       "      <td>Smith, James B/M; Dews, Antonio B/M; Spearman,...</td>\n",
       "      <td>3</td>\n",
       "      <td>Mondy, Michael B/M</td>\n",
       "      <td>1</td>\n",
       "      <td>None</td>\n",
       "      <td>None</td>\n",
       "      <td>http://dallaspolice.net/reports/OIS/narrative/...</td>\n",
       "      <td>On Saturday, May 26, 2007, at approximately 1:...</td>\n",
       "      <td>NaN</td>\n",
       "      <td>NaN</td>\n",
       "    </tr>\n",
       "  </tbody>\n",
       "</table>\n",
       "<p>5 rows × 21 columns</p>\n",
       "</div>"
      ],
      "text/plain": [
       "  case_number race gender last_name first_name        full_name case_number  \\\n",
       "0      44523A    L      M     Curry      James     Curry, James      44523A   \n",
       "1     121982X    L      M    Chavez    Gabriel  Chavez, Gabriel     121982X   \n",
       "2     605484T    L      M   Salinas       Nick    Salinas, Nick     605484T   \n",
       "3     384832T    B      M     Smith      James     Smith, James     384832T   \n",
       "4     384832T    B      M      Dews    Antonio    Dews, Antonio     384832T   \n",
       "\n",
       "         date                  location subject_statuses  ...  \\\n",
       "0  2013-02-23     3000 Chihuahua Street          Injured  ...   \n",
       "1  2010-05-03  1300 N. Munger Boulevard          Injured  ...   \n",
       "2  2007-08-12   200 S. Stemmons Freeway            Other  ...   \n",
       "3  2007-05-26           7900 S. Loop 12   Shoot and Miss  ...   \n",
       "4  2007-05-26           7900 S. Loop 12   Shoot and Miss  ...   \n",
       "\n",
       "                                            subjects subject_count  \\\n",
       "0                                   Curry, James L/M             1   \n",
       "1                                Chavez, Gabriel L/M             1   \n",
       "2                                  Salinas, Nick L/M             1   \n",
       "3  Smith, James B/M; Dews, Antonio B/M; Spearman,...             3   \n",
       "4  Smith, James B/M; Dews, Antonio B/M; Spearman,...             3   \n",
       "\n",
       "                                    officers officer_count  \\\n",
       "0  Patino, Michael L/M; Fillingim, Brian W/M             2   \n",
       "1                       Padilla, Gilbert L/M             1   \n",
       "2                          Poston, Jerry W/M             1   \n",
       "3                         Mondy, Michael B/M             1   \n",
       "4                         Mondy, Michael B/M             1   \n",
       "\n",
       "   grand_jury_disposition attorney_general_forms_url  \\\n",
       "0                 No Bill                       None   \n",
       "1                 No Bill                       None   \n",
       "2             See Summary                       None   \n",
       "3                    None                       None   \n",
       "4                    None                       None   \n",
       "\n",
       "                                         summary_url  \\\n",
       "0  http://dallaspolice.net/reports/OIS/narrative/...   \n",
       "1  http://dallaspolice.net/reports/OIS/narrative/...   \n",
       "2  http://dallaspolice.net/reports/OIS/narrative/...   \n",
       "3  http://dallaspolice.net/reports/OIS/narrative/...   \n",
       "4  http://dallaspolice.net/reports/OIS/narrative/...   \n",
       "\n",
       "                                        summary_text latitude  longitude  \n",
       "0  On Saturday, February 23, 2013, at approximate...      NaN        NaN  \n",
       "1  On Monday, May 3, 2010, at approximately 8:06 ...      NaN        NaN  \n",
       "2  On Sunday, August 12, 2007, at approximately 2...      NaN        NaN  \n",
       "3  On Saturday, May 26, 2007, at approximately 1:...      NaN        NaN  \n",
       "4  On Saturday, May 26, 2007, at approximately 1:...      NaN        NaN  \n",
       "\n",
       "[5 rows x 21 columns]"
      ]
     },
     "execution_count": 9,
     "metadata": {},
     "output_type": "execute_result"
    }
   ],
   "source": [
    "subject_incidents.head()"
   ]
  },
  {
   "cell_type": "code",
   "execution_count": 11,
   "metadata": {},
   "outputs": [
    {
     "data": {
      "text/plain": [
       "case_number                     0\n",
       "race                            0\n",
       "gender                          0\n",
       "last_name                       0\n",
       "first_name                     18\n",
       "full_name                       0\n",
       "case_number                     0\n",
       "date                            0\n",
       "location                        0\n",
       "subject_statuses                0\n",
       "subject_weapon                  0\n",
       "subjects                        0\n",
       "subject_count                   0\n",
       "officers                        0\n",
       "officer_count                   0\n",
       "grand_jury_disposition         88\n",
       "attorney_general_forms_url    221\n",
       "summary_url                     3\n",
       "summary_text                    3\n",
       "latitude                        9\n",
       "longitude                       9\n",
       "dtype: int64"
      ]
     },
     "execution_count": 11,
     "metadata": {},
     "output_type": "execute_result"
    }
   ],
   "source": [
    "subject_incidents.isna().sum()"
   ]
  }
 ],
 "metadata": {
  "kernelspec": {
   "display_name": "Python 3.9.6 64-bit",
   "language": "python",
   "name": "python3"
  },
  "language_info": {
   "codemirror_mode": {
    "name": "ipython",
    "version": 3
   },
   "file_extension": ".py",
   "mimetype": "text/x-python",
   "name": "python",
   "nbconvert_exporter": "python",
   "pygments_lexer": "ipython3",
   "version": "3.9.6"
  },
  "orig_nbformat": 4,
  "vscode": {
   "interpreter": {
    "hash": "2ea6e2759401c72f93fb16ffa300c72a8dd4ce3e55d7cb63d922513c12242f9b"
   }
  }
 },
 "nbformat": 4,
 "nbformat_minor": 2
}
