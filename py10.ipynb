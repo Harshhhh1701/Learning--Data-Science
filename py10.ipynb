{
 "cells": [
  {
   "cell_type": "code",
   "execution_count": 1,
   "metadata": {},
   "outputs": [],
   "source": [
    "import pandas as pd \n",
    "import matplotlib.pyplot as plt \n",
    "%matplotlib inline"
   ]
  },
  {
   "cell_type": "code",
   "execution_count": 2,
   "metadata": {},
   "outputs": [],
   "source": [
    "data=pd.read_csv('files/data_science_salaries.csv')"
   ]
  },
  {
   "cell_type": "code",
   "execution_count": 3,
   "metadata": {},
   "outputs": [
    {
     "data": {
      "text/html": [
       "<div>\n",
       "<style scoped>\n",
       "    .dataframe tbody tr th:only-of-type {\n",
       "        vertical-align: middle;\n",
       "    }\n",
       "\n",
       "    .dataframe tbody tr th {\n",
       "        vertical-align: top;\n",
       "    }\n",
       "\n",
       "    .dataframe thead th {\n",
       "        text-align: right;\n",
       "    }\n",
       "</style>\n",
       "<table border=\"1\" class=\"dataframe\">\n",
       "  <thead>\n",
       "    <tr style=\"text-align: right;\">\n",
       "      <th></th>\n",
       "      <th>work_year</th>\n",
       "      <th>experience_level</th>\n",
       "      <th>employment_type</th>\n",
       "      <th>job_title</th>\n",
       "      <th>salary</th>\n",
       "      <th>salary_currency</th>\n",
       "      <th>salary_in_usd</th>\n",
       "      <th>employee_residence</th>\n",
       "      <th>remote_ratio</th>\n",
       "      <th>company_location</th>\n",
       "      <th>company_size</th>\n",
       "    </tr>\n",
       "  </thead>\n",
       "  <tbody>\n",
       "    <tr>\n",
       "      <th>0</th>\n",
       "      <td>2021e</td>\n",
       "      <td>EN</td>\n",
       "      <td>FT</td>\n",
       "      <td>Data Science Consultant</td>\n",
       "      <td>54000</td>\n",
       "      <td>EUR</td>\n",
       "      <td>64369</td>\n",
       "      <td>DE</td>\n",
       "      <td>50</td>\n",
       "      <td>DE</td>\n",
       "      <td>L</td>\n",
       "    </tr>\n",
       "    <tr>\n",
       "      <th>1</th>\n",
       "      <td>2020</td>\n",
       "      <td>SE</td>\n",
       "      <td>FT</td>\n",
       "      <td>Data Scientist</td>\n",
       "      <td>60000</td>\n",
       "      <td>EUR</td>\n",
       "      <td>68428</td>\n",
       "      <td>GR</td>\n",
       "      <td>100</td>\n",
       "      <td>US</td>\n",
       "      <td>L</td>\n",
       "    </tr>\n",
       "    <tr>\n",
       "      <th>2</th>\n",
       "      <td>2021e</td>\n",
       "      <td>EX</td>\n",
       "      <td>FT</td>\n",
       "      <td>Head of Data Science</td>\n",
       "      <td>85000</td>\n",
       "      <td>USD</td>\n",
       "      <td>85000</td>\n",
       "      <td>RU</td>\n",
       "      <td>0</td>\n",
       "      <td>RU</td>\n",
       "      <td>M</td>\n",
       "    </tr>\n",
       "    <tr>\n",
       "      <th>3</th>\n",
       "      <td>2021e</td>\n",
       "      <td>EX</td>\n",
       "      <td>FT</td>\n",
       "      <td>Head of Data</td>\n",
       "      <td>230000</td>\n",
       "      <td>USD</td>\n",
       "      <td>230000</td>\n",
       "      <td>RU</td>\n",
       "      <td>50</td>\n",
       "      <td>RU</td>\n",
       "      <td>L</td>\n",
       "    </tr>\n",
       "    <tr>\n",
       "      <th>4</th>\n",
       "      <td>2021e</td>\n",
       "      <td>EN</td>\n",
       "      <td>FT</td>\n",
       "      <td>Machine Learning Engineer</td>\n",
       "      <td>125000</td>\n",
       "      <td>USD</td>\n",
       "      <td>125000</td>\n",
       "      <td>US</td>\n",
       "      <td>100</td>\n",
       "      <td>US</td>\n",
       "      <td>S</td>\n",
       "    </tr>\n",
       "  </tbody>\n",
       "</table>\n",
       "</div>"
      ],
      "text/plain": [
       "  work_year experience_level employment_type                  job_title  \\\n",
       "0     2021e               EN              FT    Data Science Consultant   \n",
       "1      2020               SE              FT             Data Scientist   \n",
       "2     2021e               EX              FT       Head of Data Science   \n",
       "3     2021e               EX              FT               Head of Data   \n",
       "4     2021e               EN              FT  Machine Learning Engineer   \n",
       "\n",
       "   salary salary_currency  salary_in_usd employee_residence  remote_ratio  \\\n",
       "0   54000             EUR          64369                 DE            50   \n",
       "1   60000             EUR          68428                 GR           100   \n",
       "2   85000             USD          85000                 RU             0   \n",
       "3  230000             USD         230000                 RU            50   \n",
       "4  125000             USD         125000                 US           100   \n",
       "\n",
       "  company_location company_size  \n",
       "0               DE            L  \n",
       "1               US            L  \n",
       "2               RU            M  \n",
       "3               RU            L  \n",
       "4               US            S  "
      ]
     },
     "execution_count": 3,
     "metadata": {},
     "output_type": "execute_result"
    }
   ],
   "source": [
    "data.head()"
   ]
  },
  {
   "cell_type": "code",
   "execution_count": 4,
   "metadata": {},
   "outputs": [
    {
     "data": {
      "text/plain": [
       "245"
      ]
     },
     "execution_count": 4,
     "metadata": {},
     "output_type": "execute_result"
    }
   ],
   "source": [
    "len(data)"
   ]
  },
  {
   "cell_type": "code",
   "execution_count": 5,
   "metadata": {},
   "outputs": [
    {
     "data": {
      "text/plain": [
       "work_year             object\n",
       "experience_level      object\n",
       "employment_type       object\n",
       "job_title             object\n",
       "salary                 int64\n",
       "salary_currency       object\n",
       "salary_in_usd          int64\n",
       "employee_residence    object\n",
       "remote_ratio           int64\n",
       "company_location      object\n",
       "company_size          object\n",
       "dtype: object"
      ]
     },
     "execution_count": 5,
     "metadata": {},
     "output_type": "execute_result"
    }
   ],
   "source": [
    "data.dtypes"
   ]
  },
  {
   "cell_type": "code",
   "execution_count": 6,
   "metadata": {},
   "outputs": [
    {
     "data": {
      "text/plain": [
       "work_year             False\n",
       "experience_level      False\n",
       "employment_type       False\n",
       "job_title             False\n",
       "salary                False\n",
       "salary_currency       False\n",
       "salary_in_usd         False\n",
       "employee_residence    False\n",
       "remote_ratio          False\n",
       "company_location      False\n",
       "company_size          False\n",
       "dtype: bool"
      ]
     },
     "execution_count": 6,
     "metadata": {},
     "output_type": "execute_result"
    }
   ],
   "source": [
    "data.isnull().any()"
   ]
  },
  {
   "cell_type": "code",
   "execution_count": 7,
   "metadata": {},
   "outputs": [
    {
     "data": {
      "text/plain": [
       "array(['2021e', '2020'], dtype=object)"
      ]
     },
     "execution_count": 7,
     "metadata": {},
     "output_type": "execute_result"
    }
   ],
   "source": [
    "data['work_year'].unique()"
   ]
  },
  {
   "cell_type": "code",
   "execution_count": 8,
   "metadata": {},
   "outputs": [
    {
     "data": {
      "text/plain": [
       "array(['EN', 'SE', 'EX', 'MI'], dtype=object)"
      ]
     },
     "execution_count": 8,
     "metadata": {},
     "output_type": "execute_result"
    }
   ],
   "source": [
    "data['experience_level'].unique()"
   ]
  },
  {
   "cell_type": "code",
   "execution_count": 9,
   "metadata": {},
   "outputs": [
    {
     "data": {
      "text/plain": [
       "array(['L', 'M', 'S'], dtype=object)"
      ]
     },
     "execution_count": 9,
     "metadata": {},
     "output_type": "execute_result"
    }
   ],
   "source": [
    "data['company_size'].unique()"
   ]
  },
  {
   "cell_type": "code",
   "execution_count": 10,
   "metadata": {},
   "outputs": [
    {
     "data": {
      "text/html": [
       "<div>\n",
       "<style scoped>\n",
       "    .dataframe tbody tr th:only-of-type {\n",
       "        vertical-align: middle;\n",
       "    }\n",
       "\n",
       "    .dataframe tbody tr th {\n",
       "        vertical-align: top;\n",
       "    }\n",
       "\n",
       "    .dataframe thead th {\n",
       "        text-align: right;\n",
       "    }\n",
       "</style>\n",
       "<table border=\"1\" class=\"dataframe\">\n",
       "  <thead>\n",
       "    <tr style=\"text-align: right;\">\n",
       "      <th></th>\n",
       "      <th>count</th>\n",
       "      <th>mean</th>\n",
       "      <th>std</th>\n",
       "      <th>min</th>\n",
       "      <th>25%</th>\n",
       "      <th>50%</th>\n",
       "      <th>75%</th>\n",
       "      <th>max</th>\n",
       "    </tr>\n",
       "    <tr>\n",
       "      <th>experience_level</th>\n",
       "      <th></th>\n",
       "      <th></th>\n",
       "      <th></th>\n",
       "      <th></th>\n",
       "      <th></th>\n",
       "      <th></th>\n",
       "      <th></th>\n",
       "      <th></th>\n",
       "    </tr>\n",
       "  </thead>\n",
       "  <tbody>\n",
       "    <tr>\n",
       "      <th>EN</th>\n",
       "      <td>54.0</td>\n",
       "      <td>59753.462963</td>\n",
       "      <td>49103.427811</td>\n",
       "      <td>4000.0</td>\n",
       "      <td>21732.25</td>\n",
       "      <td>58800.5</td>\n",
       "      <td>82500.0</td>\n",
       "      <td>250000.0</td>\n",
       "    </tr>\n",
       "    <tr>\n",
       "      <th>EX</th>\n",
       "      <td>11.0</td>\n",
       "      <td>226288.000000</td>\n",
       "      <td>164029.405584</td>\n",
       "      <td>70329.0</td>\n",
       "      <td>114021.50</td>\n",
       "      <td>154963.0</td>\n",
       "      <td>280000.0</td>\n",
       "      <td>600000.0</td>\n",
       "    </tr>\n",
       "    <tr>\n",
       "      <th>MI</th>\n",
       "      <td>103.0</td>\n",
       "      <td>85738.135922</td>\n",
       "      <td>78324.468318</td>\n",
       "      <td>2876.0</td>\n",
       "      <td>40505.00</td>\n",
       "      <td>73000.0</td>\n",
       "      <td>110000.0</td>\n",
       "      <td>450000.0</td>\n",
       "    </tr>\n",
       "    <tr>\n",
       "      <th>SE</th>\n",
       "      <td>77.0</td>\n",
       "      <td>128841.298701</td>\n",
       "      <td>67909.763752</td>\n",
       "      <td>19052.0</td>\n",
       "      <td>78340.00</td>\n",
       "      <td>120000.0</td>\n",
       "      <td>170000.0</td>\n",
       "      <td>412000.0</td>\n",
       "    </tr>\n",
       "  </tbody>\n",
       "</table>\n",
       "</div>"
      ],
      "text/plain": [
       "                  count           mean            std      min        25%  \\\n",
       "experience_level                                                            \n",
       "EN                 54.0   59753.462963   49103.427811   4000.0   21732.25   \n",
       "EX                 11.0  226288.000000  164029.405584  70329.0  114021.50   \n",
       "MI                103.0   85738.135922   78324.468318   2876.0   40505.00   \n",
       "SE                 77.0  128841.298701   67909.763752  19052.0   78340.00   \n",
       "\n",
       "                       50%       75%       max  \n",
       "experience_level                                \n",
       "EN                 58800.5   82500.0  250000.0  \n",
       "EX                154963.0  280000.0  600000.0  \n",
       "MI                 73000.0  110000.0  450000.0  \n",
       "SE                120000.0  170000.0  412000.0  "
      ]
     },
     "execution_count": 10,
     "metadata": {},
     "output_type": "execute_result"
    }
   ],
   "source": [
    "data.groupby('experience_level')['salary_in_usd'].describe()"
   ]
  },
  {
   "cell_type": "code",
   "execution_count": 11,
   "metadata": {},
   "outputs": [
    {
     "data": {
      "text/html": [
       "<div>\n",
       "<style scoped>\n",
       "    .dataframe tbody tr th:only-of-type {\n",
       "        vertical-align: middle;\n",
       "    }\n",
       "\n",
       "    .dataframe tbody tr th {\n",
       "        vertical-align: top;\n",
       "    }\n",
       "\n",
       "    .dataframe thead th {\n",
       "        text-align: right;\n",
       "    }\n",
       "</style>\n",
       "<table border=\"1\" class=\"dataframe\">\n",
       "  <thead>\n",
       "    <tr style=\"text-align: right;\">\n",
       "      <th></th>\n",
       "      <th>count</th>\n",
       "      <th>mean</th>\n",
       "      <th>std</th>\n",
       "      <th>min</th>\n",
       "      <th>25%</th>\n",
       "      <th>50%</th>\n",
       "      <th>75%</th>\n",
       "      <th>max</th>\n",
       "    </tr>\n",
       "    <tr>\n",
       "      <th>company_size</th>\n",
       "      <th></th>\n",
       "      <th></th>\n",
       "      <th></th>\n",
       "      <th></th>\n",
       "      <th></th>\n",
       "      <th></th>\n",
       "      <th></th>\n",
       "      <th></th>\n",
       "    </tr>\n",
       "  </thead>\n",
       "  <tbody>\n",
       "    <tr>\n",
       "      <th>L</th>\n",
       "      <td>132.0</td>\n",
       "      <td>114374.015152</td>\n",
       "      <td>90822.326575</td>\n",
       "      <td>5898.0</td>\n",
       "      <td>56183.5</td>\n",
       "      <td>91500.0</td>\n",
       "      <td>150000.0</td>\n",
       "      <td>600000.0</td>\n",
       "    </tr>\n",
       "    <tr>\n",
       "      <th>M</th>\n",
       "      <td>55.0</td>\n",
       "      <td>85082.818182</td>\n",
       "      <td>72504.464408</td>\n",
       "      <td>4000.0</td>\n",
       "      <td>36337.5</td>\n",
       "      <td>71968.0</td>\n",
       "      <td>116062.5</td>\n",
       "      <td>450000.0</td>\n",
       "    </tr>\n",
       "    <tr>\n",
       "      <th>S</th>\n",
       "      <td>58.0</td>\n",
       "      <td>80874.793103</td>\n",
       "      <td>72038.848392</td>\n",
       "      <td>2876.0</td>\n",
       "      <td>35555.5</td>\n",
       "      <td>68364.5</td>\n",
       "      <td>101951.0</td>\n",
       "      <td>416000.0</td>\n",
       "    </tr>\n",
       "  </tbody>\n",
       "</table>\n",
       "</div>"
      ],
      "text/plain": [
       "              count           mean           std     min      25%      50%  \\\n",
       "company_size                                                                 \n",
       "L             132.0  114374.015152  90822.326575  5898.0  56183.5  91500.0   \n",
       "M              55.0   85082.818182  72504.464408  4000.0  36337.5  71968.0   \n",
       "S              58.0   80874.793103  72038.848392  2876.0  35555.5  68364.5   \n",
       "\n",
       "                   75%       max  \n",
       "company_size                      \n",
       "L             150000.0  600000.0  \n",
       "M             116062.5  450000.0  \n",
       "S             101951.0  416000.0  "
      ]
     },
     "execution_count": 11,
     "metadata": {},
     "output_type": "execute_result"
    }
   ],
   "source": [
    "data.groupby('company_size')['salary_in_usd'].describe()"
   ]
  },
  {
   "cell_type": "code",
   "execution_count": 12,
   "metadata": {},
   "outputs": [
    {
     "data": {
      "text/plain": [
       "experience_level\n",
       "EN     59753.462963\n",
       "EX    226288.000000\n",
       "MI     85738.135922\n",
       "SE    128841.298701\n",
       "Name: salary_in_usd, dtype: float64"
      ]
     },
     "execution_count": 12,
     "metadata": {},
     "output_type": "execute_result"
    }
   ],
   "source": [
    "data.groupby('experience_level')['salary_in_usd'].mean()"
   ]
  },
  {
   "cell_type": "code",
   "execution_count": 13,
   "metadata": {},
   "outputs": [
    {
     "data": {
      "text/plain": [
       "company_size\n",
       "L    114374.015152\n",
       "M     85082.818182\n",
       "S     80874.793103\n",
       "Name: salary_in_usd, dtype: float64"
      ]
     },
     "execution_count": 13,
     "metadata": {},
     "output_type": "execute_result"
    }
   ],
   "source": [
    "data.groupby('company_size')['salary_in_usd'].mean()"
   ]
  },
  {
   "cell_type": "code",
   "execution_count": 14,
   "metadata": {},
   "outputs": [
    {
     "data": {
      "text/plain": [
       "<AxesSubplot:title={'center':'salary_in_usd'}, xlabel='company_size'>"
      ]
     },
     "execution_count": 14,
     "metadata": {},
     "output_type": "execute_result"
    },
    {
     "data": {
      "image/png": "[encoded data removed]",
      "text/plain": [
       "<Figure size 432x288 with 1 Axes>"
      ]
     },
     "metadata": {
      "needs_background": "light"
     },
     "output_type": "display_data"
    }
   ],
   "source": [
    "data.boxplot(column='salary_in_usd',by='company_size')"
   ]
  },
  {
   "cell_type": "code",
   "execution_count": 16,
   "metadata": {},
   "outputs": [],
   "source": [
    "plot_data=data.groupby(['company_size','experience_level'])['salary_in_usd'].mean().unstack()"
   ]
  },
  {
   "cell_type": "code",
   "execution_count": 18,
   "metadata": {},
   "outputs": [
    {
     "data": {
      "text/html": [
       "<div>\n",
       "<style scoped>\n",
       "    .dataframe tbody tr th:only-of-type {\n",
       "        vertical-align: middle;\n",
       "    }\n",
       "\n",
       "    .dataframe tbody tr th {\n",
       "        vertical-align: top;\n",
       "    }\n",
       "\n",
       "    .dataframe thead th {\n",
       "        text-align: right;\n",
       "    }\n",
       "</style>\n",
       "<table border=\"1\" class=\"dataframe\">\n",
       "  <thead>\n",
       "    <tr style=\"text-align: right;\">\n",
       "      <th>experience_level</th>\n",
       "      <th>EN</th>\n",
       "      <th>EX</th>\n",
       "      <th>MI</th>\n",
       "      <th>SE</th>\n",
       "    </tr>\n",
       "    <tr>\n",
       "      <th>company_size</th>\n",
       "      <th></th>\n",
       "      <th></th>\n",
       "      <th></th>\n",
       "      <th></th>\n",
       "    </tr>\n",
       "  </thead>\n",
       "  <tbody>\n",
       "    <tr>\n",
       "      <th>L</th>\n",
       "      <td>75148.000000</td>\n",
       "      <td>239729.875</td>\n",
       "      <td>96285.451613</td>\n",
       "      <td>134465.604651</td>\n",
       "    </tr>\n",
       "    <tr>\n",
       "      <th>M</th>\n",
       "      <td>41063.923077</td>\n",
       "      <td>85000.000</td>\n",
       "      <td>83982.800000</td>\n",
       "      <td>122572.125000</td>\n",
       "    </tr>\n",
       "    <tr>\n",
       "      <th>S</th>\n",
       "      <td>57502.000000</td>\n",
       "      <td>243164.500</td>\n",
       "      <td>47610.000000</td>\n",
       "      <td>120978.055556</td>\n",
       "    </tr>\n",
       "  </tbody>\n",
       "</table>\n",
       "</div>"
      ],
      "text/plain": [
       "experience_level            EN          EX            MI             SE\n",
       "company_size                                                           \n",
       "L                 75148.000000  239729.875  96285.451613  134465.604651\n",
       "M                 41063.923077   85000.000  83982.800000  122572.125000\n",
       "S                 57502.000000  243164.500  47610.000000  120978.055556"
      ]
     },
     "execution_count": 18,
     "metadata": {},
     "output_type": "execute_result"
    }
   ],
   "source": [
    "plot_data"
   ]
  },
  {
   "cell_type": "code",
   "execution_count": 19,
   "metadata": {},
   "outputs": [
    {
     "data": {
      "text/html": [
       "<div>\n",
       "<style scoped>\n",
       "    .dataframe tbody tr th:only-of-type {\n",
       "        vertical-align: middle;\n",
       "    }\n",
       "\n",
       "    .dataframe tbody tr th {\n",
       "        vertical-align: top;\n",
       "    }\n",
       "\n",
       "    .dataframe thead th {\n",
       "        text-align: right;\n",
       "    }\n",
       "</style>\n",
       "<table border=\"1\" class=\"dataframe\">\n",
       "  <thead>\n",
       "    <tr style=\"text-align: right;\">\n",
       "      <th>experience_level</th>\n",
       "      <th>EN</th>\n",
       "      <th>MI</th>\n",
       "      <th>SE</th>\n",
       "      <th>EX</th>\n",
       "    </tr>\n",
       "    <tr>\n",
       "      <th>company_size</th>\n",
       "      <th></th>\n",
       "      <th></th>\n",
       "      <th></th>\n",
       "      <th></th>\n",
       "    </tr>\n",
       "  </thead>\n",
       "  <tbody>\n",
       "    <tr>\n",
       "      <th>S</th>\n",
       "      <td>57502.000000</td>\n",
       "      <td>47610.000000</td>\n",
       "      <td>120978.055556</td>\n",
       "      <td>243164.500</td>\n",
       "    </tr>\n",
       "    <tr>\n",
       "      <th>M</th>\n",
       "      <td>41063.923077</td>\n",
       "      <td>83982.800000</td>\n",
       "      <td>122572.125000</td>\n",
       "      <td>85000.000</td>\n",
       "    </tr>\n",
       "    <tr>\n",
       "      <th>L</th>\n",
       "      <td>75148.000000</td>\n",
       "      <td>96285.451613</td>\n",
       "      <td>134465.604651</td>\n",
       "      <td>239729.875</td>\n",
       "    </tr>\n",
       "  </tbody>\n",
       "</table>\n",
       "</div>"
      ],
      "text/plain": [
       "experience_level            EN            MI             SE          EX\n",
       "company_size                                                           \n",
       "S                 57502.000000  47610.000000  120978.055556  243164.500\n",
       "M                 41063.923077  83982.800000  122572.125000   85000.000\n",
       "L                 75148.000000  96285.451613  134465.604651  239729.875"
      ]
     },
     "execution_count": 19,
     "metadata": {},
     "output_type": "execute_result"
    }
   ],
   "source": [
    "plot_data=plot_data.reindex(index=['S','M','L'])\n",
    "plot_data=plot_data[['EN','MI','SE','EX']]\n",
    "plot_data"
   ]
  },
  {
   "cell_type": "code",
   "execution_count": 22,
   "metadata": {},
   "outputs": [
    {
     "data": {
      "text/plain": [
       "<AxesSubplot:xlabel='company_size', ylabel='USDsalary'>"
      ]
     },
     "execution_count": 22,
     "metadata": {},
     "output_type": "execute_result"
    },
    {
     "data": {
      "image/png": "[encoded data removed]",
      "text/plain": [
       "<Figure size 432x288 with 1 Axes>"
      ]
     },
     "metadata": {
      "needs_background": "light"
     },
     "output_type": "display_data"
    }
   ],
   "source": [
    "plot_data.plot.bar(ylabel='USD salary')"
   ]
  }
 ],
 "metadata": {
  "kernelspec": {
   "display_name": "Python 3.9.6 64-bit",
   "language": "python",
   "name": "python3"
  },
  "language_info": {
   "codemirror_mode": {
    "name": "ipython",
    "version": 3
   },
   "file_extension": ".py",
   "mimetype": "text/x-python",
   "name": "python",
   "nbconvert_exporter": "python",
   "pygments_lexer": "ipython3",
   "version": "3.9.6"
  },
  "orig_nbformat": 4,
  "vscode": {
   "interpreter": {
    "hash": "2ea6e2759401c72f93fb16ffa300c72a8dd4ce3e55d7cb63d922513c12242f9b"
   }
  }
 },
 "nbformat": 4,
 "nbformat_minor": 2
}
