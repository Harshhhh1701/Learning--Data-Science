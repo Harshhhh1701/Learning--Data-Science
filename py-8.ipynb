{
 "cells": [
  {
   "cell_type": "code",
   "execution_count": 1,
   "metadata": {},
   "outputs": [],
   "source": [
    "import pandas as pd \n",
    "import matplotlib.pyplot as plt \n",
    "%matplotlib inline"
   ]
  },
  {
   "cell_type": "code",
   "execution_count": 4,
   "metadata": {},
   "outputs": [],
   "source": [
    "spr=pd.read_csv('files/SPI/API_IQ.SPI.OVRL_DS2_en_csv_v2_3186678.csv',skiprows=4)\n",
    "meta=pd.read_csv('files/SPI/Metadata_Country_API_IQ.SPI.OVRL_DS2_en_csv_v2_3186678.csv')\n",
    "gdp=pd.read_csv('files/SPI/API_NY.GDP.PCAP.CD_DS2_en_csv_v2_3159040.csv',skiprows=4)"
   ]
  },
  {
   "cell_type": "code",
   "execution_count": 5,
   "metadata": {},
   "outputs": [
    {
     "data": {
      "text/html": [
       "<div>\n",
       "<style scoped>\n",
       "    .dataframe tbody tr th:only-of-type {\n",
       "        vertical-align: middle;\n",
       "    }\n",
       "\n",
       "    .dataframe tbody tr th {\n",
       "        vertical-align: top;\n",
       "    }\n",
       "\n",
       "    .dataframe thead th {\n",
       "        text-align: right;\n",
       "    }\n",
       "</style>\n",
       "<table border=\"1\" class=\"dataframe\">\n",
       "  <thead>\n",
       "    <tr style=\"text-align: right;\">\n",
       "      <th></th>\n",
       "      <th>Country Name</th>\n",
       "      <th>Country Code</th>\n",
       "      <th>Indicator Name</th>\n",
       "      <th>Indicator Code</th>\n",
       "      <th>1960</th>\n",
       "      <th>1961</th>\n",
       "      <th>1962</th>\n",
       "      <th>1963</th>\n",
       "      <th>1964</th>\n",
       "      <th>1965</th>\n",
       "      <th>...</th>\n",
       "      <th>2012</th>\n",
       "      <th>2013</th>\n",
       "      <th>2014</th>\n",
       "      <th>2015</th>\n",
       "      <th>2016</th>\n",
       "      <th>2017</th>\n",
       "      <th>2018</th>\n",
       "      <th>2019</th>\n",
       "      <th>2020</th>\n",
       "      <th>Unnamed: 65</th>\n",
       "    </tr>\n",
       "  </thead>\n",
       "  <tbody>\n",
       "    <tr>\n",
       "      <th>0</th>\n",
       "      <td>Aruba</td>\n",
       "      <td>ABW</td>\n",
       "      <td>Statistical performance indicators (SPI): Over...</td>\n",
       "      <td>IQ.SPI.OVRL</td>\n",
       "      <td>NaN</td>\n",
       "      <td>NaN</td>\n",
       "      <td>NaN</td>\n",
       "      <td>NaN</td>\n",
       "      <td>NaN</td>\n",
       "      <td>NaN</td>\n",
       "      <td>...</td>\n",
       "      <td>NaN</td>\n",
       "      <td>NaN</td>\n",
       "      <td>NaN</td>\n",
       "      <td>NaN</td>\n",
       "      <td>NaN</td>\n",
       "      <td>NaN</td>\n",
       "      <td>NaN</td>\n",
       "      <td>NaN</td>\n",
       "      <td>NaN</td>\n",
       "      <td>NaN</td>\n",
       "    </tr>\n",
       "    <tr>\n",
       "      <th>1</th>\n",
       "      <td>Africa Eastern and Southern</td>\n",
       "      <td>AFE</td>\n",
       "      <td>Statistical performance indicators (SPI): Over...</td>\n",
       "      <td>IQ.SPI.OVRL</td>\n",
       "      <td>NaN</td>\n",
       "      <td>NaN</td>\n",
       "      <td>NaN</td>\n",
       "      <td>NaN</td>\n",
       "      <td>NaN</td>\n",
       "      <td>NaN</td>\n",
       "      <td>...</td>\n",
       "      <td>NaN</td>\n",
       "      <td>NaN</td>\n",
       "      <td>NaN</td>\n",
       "      <td>NaN</td>\n",
       "      <td>NaN</td>\n",
       "      <td>NaN</td>\n",
       "      <td>NaN</td>\n",
       "      <td>NaN</td>\n",
       "      <td>NaN</td>\n",
       "      <td>NaN</td>\n",
       "    </tr>\n",
       "    <tr>\n",
       "      <th>2</th>\n",
       "      <td>Afghanistan</td>\n",
       "      <td>AFG</td>\n",
       "      <td>Statistical performance indicators (SPI): Over...</td>\n",
       "      <td>IQ.SPI.OVRL</td>\n",
       "      <td>NaN</td>\n",
       "      <td>NaN</td>\n",
       "      <td>NaN</td>\n",
       "      <td>NaN</td>\n",
       "      <td>NaN</td>\n",
       "      <td>NaN</td>\n",
       "      <td>...</td>\n",
       "      <td>NaN</td>\n",
       "      <td>NaN</td>\n",
       "      <td>NaN</td>\n",
       "      <td>NaN</td>\n",
       "      <td>37.222917</td>\n",
       "      <td>42.577917</td>\n",
       "      <td>49.845000</td>\n",
       "      <td>49.756250</td>\n",
       "      <td>NaN</td>\n",
       "      <td>NaN</td>\n",
       "    </tr>\n",
       "    <tr>\n",
       "      <th>3</th>\n",
       "      <td>Africa Western and Central</td>\n",
       "      <td>AFW</td>\n",
       "      <td>Statistical performance indicators (SPI): Over...</td>\n",
       "      <td>IQ.SPI.OVRL</td>\n",
       "      <td>NaN</td>\n",
       "      <td>NaN</td>\n",
       "      <td>NaN</td>\n",
       "      <td>NaN</td>\n",
       "      <td>NaN</td>\n",
       "      <td>NaN</td>\n",
       "      <td>...</td>\n",
       "      <td>NaN</td>\n",
       "      <td>NaN</td>\n",
       "      <td>NaN</td>\n",
       "      <td>NaN</td>\n",
       "      <td>NaN</td>\n",
       "      <td>NaN</td>\n",
       "      <td>NaN</td>\n",
       "      <td>NaN</td>\n",
       "      <td>NaN</td>\n",
       "      <td>NaN</td>\n",
       "    </tr>\n",
       "    <tr>\n",
       "      <th>4</th>\n",
       "      <td>Angola</td>\n",
       "      <td>AGO</td>\n",
       "      <td>Statistical performance indicators (SPI): Over...</td>\n",
       "      <td>IQ.SPI.OVRL</td>\n",
       "      <td>NaN</td>\n",
       "      <td>NaN</td>\n",
       "      <td>NaN</td>\n",
       "      <td>NaN</td>\n",
       "      <td>NaN</td>\n",
       "      <td>NaN</td>\n",
       "      <td>...</td>\n",
       "      <td>NaN</td>\n",
       "      <td>NaN</td>\n",
       "      <td>NaN</td>\n",
       "      <td>NaN</td>\n",
       "      <td>43.735417</td>\n",
       "      <td>46.689583</td>\n",
       "      <td>55.232083</td>\n",
       "      <td>54.945833</td>\n",
       "      <td>NaN</td>\n",
       "      <td>NaN</td>\n",
       "    </tr>\n",
       "  </tbody>\n",
       "</table>\n",
       "<p>5 rows × 66 columns</p>\n",
       "</div>"
      ],
      "text/plain": [
       "                  Country Name Country Code  \\\n",
       "0                        Aruba          ABW   \n",
       "1  Africa Eastern and Southern          AFE   \n",
       "2                  Afghanistan          AFG   \n",
       "3   Africa Western and Central          AFW   \n",
       "4                       Angola          AGO   \n",
       "\n",
       "                                      Indicator Name Indicator Code  1960  \\\n",
       "0  Statistical performance indicators (SPI): Over...    IQ.SPI.OVRL   NaN   \n",
       "1  Statistical performance indicators (SPI): Over...    IQ.SPI.OVRL   NaN   \n",
       "2  Statistical performance indicators (SPI): Over...    IQ.SPI.OVRL   NaN   \n",
       "3  Statistical performance indicators (SPI): Over...    IQ.SPI.OVRL   NaN   \n",
       "4  Statistical performance indicators (SPI): Over...    IQ.SPI.OVRL   NaN   \n",
       "\n",
       "   1961  1962  1963  1964  1965  ...  2012  2013  2014  2015       2016  \\\n",
       "0   NaN   NaN   NaN   NaN   NaN  ...   NaN   NaN   NaN   NaN        NaN   \n",
       "1   NaN   NaN   NaN   NaN   NaN  ...   NaN   NaN   NaN   NaN        NaN   \n",
       "2   NaN   NaN   NaN   NaN   NaN  ...   NaN   NaN   NaN   NaN  37.222917   \n",
       "3   NaN   NaN   NaN   NaN   NaN  ...   NaN   NaN   NaN   NaN        NaN   \n",
       "4   NaN   NaN   NaN   NaN   NaN  ...   NaN   NaN   NaN   NaN  43.735417   \n",
       "\n",
       "        2017       2018       2019  2020  Unnamed: 65  \n",
       "0        NaN        NaN        NaN   NaN          NaN  \n",
       "1        NaN        NaN        NaN   NaN          NaN  \n",
       "2  42.577917  49.845000  49.756250   NaN          NaN  \n",
       "3        NaN        NaN        NaN   NaN          NaN  \n",
       "4  46.689583  55.232083  54.945833   NaN          NaN  \n",
       "\n",
       "[5 rows x 66 columns]"
      ]
     },
     "execution_count": 5,
     "metadata": {},
     "output_type": "execute_result"
    }
   ],
   "source": [
    "spr.head()"
   ]
  },
  {
   "cell_type": "code",
   "execution_count": 6,
   "metadata": {},
   "outputs": [
    {
     "data": {
      "text/html": [
       "<div>\n",
       "<style scoped>\n",
       "    .dataframe tbody tr th:only-of-type {\n",
       "        vertical-align: middle;\n",
       "    }\n",
       "\n",
       "    .dataframe tbody tr th {\n",
       "        vertical-align: top;\n",
       "    }\n",
       "\n",
       "    .dataframe thead th {\n",
       "        text-align: right;\n",
       "    }\n",
       "</style>\n",
       "<table border=\"1\" class=\"dataframe\">\n",
       "  <thead>\n",
       "    <tr style=\"text-align: right;\">\n",
       "      <th></th>\n",
       "      <th>Country Code</th>\n",
       "      <th>Region</th>\n",
       "      <th>IncomeGroup</th>\n",
       "      <th>SpecialNotes</th>\n",
       "      <th>TableName</th>\n",
       "      <th>Unnamed: 5</th>\n",
       "    </tr>\n",
       "  </thead>\n",
       "  <tbody>\n",
       "    <tr>\n",
       "      <th>0</th>\n",
       "      <td>ABW</td>\n",
       "      <td>Latin America &amp; Caribbean</td>\n",
       "      <td>High income</td>\n",
       "      <td>NaN</td>\n",
       "      <td>Aruba</td>\n",
       "      <td>NaN</td>\n",
       "    </tr>\n",
       "    <tr>\n",
       "      <th>1</th>\n",
       "      <td>AFE</td>\n",
       "      <td>NaN</td>\n",
       "      <td>NaN</td>\n",
       "      <td>26 countries, stretching from the Red Sea in t...</td>\n",
       "      <td>Africa Eastern and Southern</td>\n",
       "      <td>NaN</td>\n",
       "    </tr>\n",
       "    <tr>\n",
       "      <th>2</th>\n",
       "      <td>AFG</td>\n",
       "      <td>South Asia</td>\n",
       "      <td>Low income</td>\n",
       "      <td>Fiscal year end: March 20; reporting period fo...</td>\n",
       "      <td>Afghanistan</td>\n",
       "      <td>NaN</td>\n",
       "    </tr>\n",
       "    <tr>\n",
       "      <th>3</th>\n",
       "      <td>AFW</td>\n",
       "      <td>NaN</td>\n",
       "      <td>NaN</td>\n",
       "      <td>22 countries, stretching from the westernmost ...</td>\n",
       "      <td>Africa Western and Central</td>\n",
       "      <td>NaN</td>\n",
       "    </tr>\n",
       "    <tr>\n",
       "      <th>4</th>\n",
       "      <td>AGO</td>\n",
       "      <td>Sub-Saharan Africa</td>\n",
       "      <td>Lower middle income</td>\n",
       "      <td>NaN</td>\n",
       "      <td>Angola</td>\n",
       "      <td>NaN</td>\n",
       "    </tr>\n",
       "  </tbody>\n",
       "</table>\n",
       "</div>"
      ],
      "text/plain": [
       "  Country Code                     Region          IncomeGroup  \\\n",
       "0          ABW  Latin America & Caribbean          High income   \n",
       "1          AFE                        NaN                  NaN   \n",
       "2          AFG                 South Asia           Low income   \n",
       "3          AFW                        NaN                  NaN   \n",
       "4          AGO         Sub-Saharan Africa  Lower middle income   \n",
       "\n",
       "                                        SpecialNotes  \\\n",
       "0                                                NaN   \n",
       "1  26 countries, stretching from the Red Sea in t...   \n",
       "2  Fiscal year end: March 20; reporting period fo...   \n",
       "3  22 countries, stretching from the westernmost ...   \n",
       "4                                                NaN   \n",
       "\n",
       "                     TableName  Unnamed: 5  \n",
       "0                        Aruba         NaN  \n",
       "1  Africa Eastern and Southern         NaN  \n",
       "2                  Afghanistan         NaN  \n",
       "3   Africa Western and Central         NaN  \n",
       "4                       Angola         NaN  "
      ]
     },
     "execution_count": 6,
     "metadata": {},
     "output_type": "execute_result"
    }
   ],
   "source": [
    "meta.head()"
   ]
  },
  {
   "cell_type": "code",
   "execution_count": 7,
   "metadata": {},
   "outputs": [
    {
     "data": {
      "text/html": [
       "<div>\n",
       "<style scoped>\n",
       "    .dataframe tbody tr th:only-of-type {\n",
       "        vertical-align: middle;\n",
       "    }\n",
       "\n",
       "    .dataframe tbody tr th {\n",
       "        vertical-align: top;\n",
       "    }\n",
       "\n",
       "    .dataframe thead th {\n",
       "        text-align: right;\n",
       "    }\n",
       "</style>\n",
       "<table border=\"1\" class=\"dataframe\">\n",
       "  <thead>\n",
       "    <tr style=\"text-align: right;\">\n",
       "      <th></th>\n",
       "      <th>Country Name</th>\n",
       "      <th>Country Code</th>\n",
       "      <th>Indicator Name</th>\n",
       "      <th>Indicator Code</th>\n",
       "      <th>1960</th>\n",
       "      <th>1961</th>\n",
       "      <th>1962</th>\n",
       "      <th>1963</th>\n",
       "      <th>1964</th>\n",
       "      <th>1965</th>\n",
       "      <th>...</th>\n",
       "      <th>2012</th>\n",
       "      <th>2013</th>\n",
       "      <th>2014</th>\n",
       "      <th>2015</th>\n",
       "      <th>2016</th>\n",
       "      <th>2017</th>\n",
       "      <th>2018</th>\n",
       "      <th>2019</th>\n",
       "      <th>2020</th>\n",
       "      <th>Unnamed: 65</th>\n",
       "    </tr>\n",
       "  </thead>\n",
       "  <tbody>\n",
       "    <tr>\n",
       "      <th>0</th>\n",
       "      <td>Aruba</td>\n",
       "      <td>ABW</td>\n",
       "      <td>GDP per capita (current US$)</td>\n",
       "      <td>NY.GDP.PCAP.CD</td>\n",
       "      <td>NaN</td>\n",
       "      <td>NaN</td>\n",
       "      <td>NaN</td>\n",
       "      <td>NaN</td>\n",
       "      <td>NaN</td>\n",
       "      <td>NaN</td>\n",
       "      <td>...</td>\n",
       "      <td>24712.493263</td>\n",
       "      <td>26441.619936</td>\n",
       "      <td>26893.011506</td>\n",
       "      <td>28396.908423</td>\n",
       "      <td>28452.170615</td>\n",
       "      <td>29350.805019</td>\n",
       "      <td>30253.279358</td>\n",
       "      <td>NaN</td>\n",
       "      <td>NaN</td>\n",
       "      <td>NaN</td>\n",
       "    </tr>\n",
       "    <tr>\n",
       "      <th>1</th>\n",
       "      <td>Africa Eastern and Southern</td>\n",
       "      <td>AFE</td>\n",
       "      <td>GDP per capita (current US$)</td>\n",
       "      <td>NY.GDP.PCAP.CD</td>\n",
       "      <td>147.836769</td>\n",
       "      <td>147.238537</td>\n",
       "      <td>156.426780</td>\n",
       "      <td>182.521139</td>\n",
       "      <td>162.594548</td>\n",
       "      <td>180.489043</td>\n",
       "      <td>...</td>\n",
       "      <td>1672.363658</td>\n",
       "      <td>1653.188436</td>\n",
       "      <td>1658.650062</td>\n",
       "      <td>1507.800256</td>\n",
       "      <td>1404.953164</td>\n",
       "      <td>1540.232473</td>\n",
       "      <td>1534.171767</td>\n",
       "      <td>1485.307425</td>\n",
       "      <td>1330.140232</td>\n",
       "      <td>NaN</td>\n",
       "    </tr>\n",
       "    <tr>\n",
       "      <th>2</th>\n",
       "      <td>Afghanistan</td>\n",
       "      <td>AFG</td>\n",
       "      <td>GDP per capita (current US$)</td>\n",
       "      <td>NY.GDP.PCAP.CD</td>\n",
       "      <td>59.773234</td>\n",
       "      <td>59.860900</td>\n",
       "      <td>58.458009</td>\n",
       "      <td>78.706429</td>\n",
       "      <td>82.095307</td>\n",
       "      <td>101.108325</td>\n",
       "      <td>...</td>\n",
       "      <td>641.871438</td>\n",
       "      <td>637.165464</td>\n",
       "      <td>613.856505</td>\n",
       "      <td>578.466353</td>\n",
       "      <td>509.220100</td>\n",
       "      <td>519.888913</td>\n",
       "      <td>493.756581</td>\n",
       "      <td>507.103392</td>\n",
       "      <td>508.808409</td>\n",
       "      <td>NaN</td>\n",
       "    </tr>\n",
       "    <tr>\n",
       "      <th>3</th>\n",
       "      <td>Africa Western and Central</td>\n",
       "      <td>AFW</td>\n",
       "      <td>GDP per capita (current US$)</td>\n",
       "      <td>NY.GDP.PCAP.CD</td>\n",
       "      <td>107.963779</td>\n",
       "      <td>113.114697</td>\n",
       "      <td>118.865837</td>\n",
       "      <td>123.478967</td>\n",
       "      <td>131.892939</td>\n",
       "      <td>138.566819</td>\n",
       "      <td>...</td>\n",
       "      <td>1936.390962</td>\n",
       "      <td>2123.392433</td>\n",
       "      <td>2166.743309</td>\n",
       "      <td>1886.248158</td>\n",
       "      <td>1666.422406</td>\n",
       "      <td>1606.978332</td>\n",
       "      <td>1695.959215</td>\n",
       "      <td>1772.339155</td>\n",
       "      <td>1714.426800</td>\n",
       "      <td>NaN</td>\n",
       "    </tr>\n",
       "    <tr>\n",
       "      <th>4</th>\n",
       "      <td>Angola</td>\n",
       "      <td>AGO</td>\n",
       "      <td>GDP per capita (current US$)</td>\n",
       "      <td>NY.GDP.PCAP.CD</td>\n",
       "      <td>NaN</td>\n",
       "      <td>NaN</td>\n",
       "      <td>NaN</td>\n",
       "      <td>NaN</td>\n",
       "      <td>NaN</td>\n",
       "      <td>NaN</td>\n",
       "      <td>...</td>\n",
       "      <td>5100.097027</td>\n",
       "      <td>5254.881126</td>\n",
       "      <td>5408.411700</td>\n",
       "      <td>4166.979833</td>\n",
       "      <td>3506.073128</td>\n",
       "      <td>4095.810057</td>\n",
       "      <td>3289.643995</td>\n",
       "      <td>2809.626088</td>\n",
       "      <td>1895.770869</td>\n",
       "      <td>NaN</td>\n",
       "    </tr>\n",
       "  </tbody>\n",
       "</table>\n",
       "<p>5 rows × 66 columns</p>\n",
       "</div>"
      ],
      "text/plain": [
       "                  Country Name Country Code                Indicator Name  \\\n",
       "0                        Aruba          ABW  GDP per capita (current US$)   \n",
       "1  Africa Eastern and Southern          AFE  GDP per capita (current US$)   \n",
       "2                  Afghanistan          AFG  GDP per capita (current US$)   \n",
       "3   Africa Western and Central          AFW  GDP per capita (current US$)   \n",
       "4                       Angola          AGO  GDP per capita (current US$)   \n",
       "\n",
       "   Indicator Code        1960        1961        1962        1963        1964  \\\n",
       "0  NY.GDP.PCAP.CD         NaN         NaN         NaN         NaN         NaN   \n",
       "1  NY.GDP.PCAP.CD  147.836769  147.238537  156.426780  182.521139  162.594548   \n",
       "2  NY.GDP.PCAP.CD   59.773234   59.860900   58.458009   78.706429   82.095307   \n",
       "3  NY.GDP.PCAP.CD  107.963779  113.114697  118.865837  123.478967  131.892939   \n",
       "4  NY.GDP.PCAP.CD         NaN         NaN         NaN         NaN         NaN   \n",
       "\n",
       "         1965  ...          2012          2013          2014          2015  \\\n",
       "0         NaN  ...  24712.493263  26441.619936  26893.011506  28396.908423   \n",
       "1  180.489043  ...   1672.363658   1653.188436   1658.650062   1507.800256   \n",
       "2  101.108325  ...    641.871438    637.165464    613.856505    578.466353   \n",
       "3  138.566819  ...   1936.390962   2123.392433   2166.743309   1886.248158   \n",
       "4         NaN  ...   5100.097027   5254.881126   5408.411700   4166.979833   \n",
       "\n",
       "           2016          2017          2018         2019         2020  \\\n",
       "0  28452.170615  29350.805019  30253.279358          NaN          NaN   \n",
       "1   1404.953164   1540.232473   1534.171767  1485.307425  1330.140232   \n",
       "2    509.220100    519.888913    493.756581   507.103392   508.808409   \n",
       "3   1666.422406   1606.978332   1695.959215  1772.339155  1714.426800   \n",
       "4   3506.073128   4095.810057   3289.643995  2809.626088  1895.770869   \n",
       "\n",
       "   Unnamed: 65  \n",
       "0          NaN  \n",
       "1          NaN  \n",
       "2          NaN  \n",
       "3          NaN  \n",
       "4          NaN  \n",
       "\n",
       "[5 rows x 66 columns]"
      ]
     },
     "execution_count": 7,
     "metadata": {},
     "output_type": "execute_result"
    }
   ],
   "source": [
    "gdp.head()"
   ]
  },
  {
   "cell_type": "code",
   "execution_count": 9,
   "metadata": {},
   "outputs": [],
   "source": [
    "spr=spr[['Country Code','2019']]\n",
    "gdp=gdp[['Country Code','2019']]\n",
    "meta=meta[['Country Code','Region']]"
   ]
  },
  {
   "cell_type": "code",
   "execution_count": 13,
   "metadata": {},
   "outputs": [
    {
     "data": {
      "text/plain": [
       "(266, 174)"
      ]
     },
     "execution_count": 13,
     "metadata": {},
     "output_type": "execute_result"
    }
   ],
   "source": [
    "len(spr),len(spr.dropna())"
   ]
  },
  {
   "cell_type": "code",
   "execution_count": 14,
   "metadata": {},
   "outputs": [
    {
     "data": {
      "text/plain": [
       "(266, 247)"
      ]
     },
     "execution_count": 14,
     "metadata": {},
     "output_type": "execute_result"
    }
   ],
   "source": [
    "len(gdp),len(gdp.dropna())"
   ]
  },
  {
   "cell_type": "code",
   "execution_count": 15,
   "metadata": {},
   "outputs": [],
   "source": [
    "spr=spr.dropna()"
   ]
  },
  {
   "cell_type": "code",
   "execution_count": 16,
   "metadata": {},
   "outputs": [],
   "source": [
    "gdp=gdp.dropna()"
   ]
  },
  {
   "cell_type": "code",
   "execution_count": 17,
   "metadata": {},
   "outputs": [
    {
     "data": {
      "text/html": [
       "<div>\n",
       "<style scoped>\n",
       "    .dataframe tbody tr th:only-of-type {\n",
       "        vertical-align: middle;\n",
       "    }\n",
       "\n",
       "    .dataframe tbody tr th {\n",
       "        vertical-align: top;\n",
       "    }\n",
       "\n",
       "    .dataframe thead th {\n",
       "        text-align: right;\n",
       "    }\n",
       "</style>\n",
       "<table border=\"1\" class=\"dataframe\">\n",
       "  <thead>\n",
       "    <tr style=\"text-align: right;\">\n",
       "      <th></th>\n",
       "      <th>Country Code</th>\n",
       "      <th>2019</th>\n",
       "    </tr>\n",
       "  </thead>\n",
       "  <tbody>\n",
       "    <tr>\n",
       "      <th>2</th>\n",
       "      <td>AFG</td>\n",
       "      <td>49.756250</td>\n",
       "    </tr>\n",
       "    <tr>\n",
       "      <th>4</th>\n",
       "      <td>AGO</td>\n",
       "      <td>54.945833</td>\n",
       "    </tr>\n",
       "    <tr>\n",
       "      <th>5</th>\n",
       "      <td>ALB</td>\n",
       "      <td>75.382917</td>\n",
       "    </tr>\n",
       "    <tr>\n",
       "      <th>8</th>\n",
       "      <td>ARE</td>\n",
       "      <td>59.669167</td>\n",
       "    </tr>\n",
       "    <tr>\n",
       "      <th>9</th>\n",
       "      <td>ARG</td>\n",
       "      <td>64.595833</td>\n",
       "    </tr>\n",
       "  </tbody>\n",
       "</table>\n",
       "</div>"
      ],
      "text/plain": [
       "  Country Code       2019\n",
       "2          AFG  49.756250\n",
       "4          AGO  54.945833\n",
       "5          ALB  75.382917\n",
       "8          ARE  59.669167\n",
       "9          ARG  64.595833"
      ]
     },
     "execution_count": 17,
     "metadata": {},
     "output_type": "execute_result"
    }
   ],
   "source": [
    "spr.head()"
   ]
  },
  {
   "cell_type": "code",
   "execution_count": 18,
   "metadata": {},
   "outputs": [
    {
     "data": {
      "text/html": [
       "<div>\n",
       "<style scoped>\n",
       "    .dataframe tbody tr th:only-of-type {\n",
       "        vertical-align: middle;\n",
       "    }\n",
       "\n",
       "    .dataframe tbody tr th {\n",
       "        vertical-align: top;\n",
       "    }\n",
       "\n",
       "    .dataframe thead th {\n",
       "        text-align: right;\n",
       "    }\n",
       "</style>\n",
       "<table border=\"1\" class=\"dataframe\">\n",
       "  <thead>\n",
       "    <tr style=\"text-align: right;\">\n",
       "      <th></th>\n",
       "      <th>Country Code</th>\n",
       "      <th>2019</th>\n",
       "    </tr>\n",
       "  </thead>\n",
       "  <tbody>\n",
       "    <tr>\n",
       "      <th>1</th>\n",
       "      <td>AFE</td>\n",
       "      <td>1485.307425</td>\n",
       "    </tr>\n",
       "    <tr>\n",
       "      <th>2</th>\n",
       "      <td>AFG</td>\n",
       "      <td>507.103392</td>\n",
       "    </tr>\n",
       "    <tr>\n",
       "      <th>3</th>\n",
       "      <td>AFW</td>\n",
       "      <td>1772.339155</td>\n",
       "    </tr>\n",
       "    <tr>\n",
       "      <th>4</th>\n",
       "      <td>AGO</td>\n",
       "      <td>2809.626088</td>\n",
       "    </tr>\n",
       "    <tr>\n",
       "      <th>5</th>\n",
       "      <td>ALB</td>\n",
       "      <td>5355.847795</td>\n",
       "    </tr>\n",
       "  </tbody>\n",
       "</table>\n",
       "</div>"
      ],
      "text/plain": [
       "  Country Code         2019\n",
       "1          AFE  1485.307425\n",
       "2          AFG   507.103392\n",
       "3          AFW  1772.339155\n",
       "4          AGO  2809.626088\n",
       "5          ALB  5355.847795"
      ]
     },
     "execution_count": 18,
     "metadata": {},
     "output_type": "execute_result"
    }
   ],
   "source": [
    "gdp.head()"
   ]
  },
  {
   "cell_type": "code",
   "execution_count": 20,
   "metadata": {},
   "outputs": [],
   "source": [
    "spr=spr.rename(columns={'2019':'SPI'})"
   ]
  },
  {
   "cell_type": "code",
   "execution_count": 21,
   "metadata": {},
   "outputs": [
    {
     "data": {
      "text/html": [
       "<div>\n",
       "<style scoped>\n",
       "    .dataframe tbody tr th:only-of-type {\n",
       "        vertical-align: middle;\n",
       "    }\n",
       "\n",
       "    .dataframe tbody tr th {\n",
       "        vertical-align: top;\n",
       "    }\n",
       "\n",
       "    .dataframe thead th {\n",
       "        text-align: right;\n",
       "    }\n",
       "</style>\n",
       "<table border=\"1\" class=\"dataframe\">\n",
       "  <thead>\n",
       "    <tr style=\"text-align: right;\">\n",
       "      <th></th>\n",
       "      <th>Country Code</th>\n",
       "      <th>SPI</th>\n",
       "    </tr>\n",
       "  </thead>\n",
       "  <tbody>\n",
       "    <tr>\n",
       "      <th>2</th>\n",
       "      <td>AFG</td>\n",
       "      <td>49.756250</td>\n",
       "    </tr>\n",
       "    <tr>\n",
       "      <th>4</th>\n",
       "      <td>AGO</td>\n",
       "      <td>54.945833</td>\n",
       "    </tr>\n",
       "    <tr>\n",
       "      <th>5</th>\n",
       "      <td>ALB</td>\n",
       "      <td>75.382917</td>\n",
       "    </tr>\n",
       "    <tr>\n",
       "      <th>8</th>\n",
       "      <td>ARE</td>\n",
       "      <td>59.669167</td>\n",
       "    </tr>\n",
       "    <tr>\n",
       "      <th>9</th>\n",
       "      <td>ARG</td>\n",
       "      <td>64.595833</td>\n",
       "    </tr>\n",
       "  </tbody>\n",
       "</table>\n",
       "</div>"
      ],
      "text/plain": [
       "  Country Code        SPI\n",
       "2          AFG  49.756250\n",
       "4          AGO  54.945833\n",
       "5          ALB  75.382917\n",
       "8          ARE  59.669167\n",
       "9          ARG  64.595833"
      ]
     },
     "execution_count": 21,
     "metadata": {},
     "output_type": "execute_result"
    }
   ],
   "source": [
    "spr.head()"
   ]
  },
  {
   "cell_type": "code",
   "execution_count": 22,
   "metadata": {},
   "outputs": [],
   "source": [
    "gdp=gdp.rename(columns={'2019':'GDP'})"
   ]
  },
  {
   "cell_type": "code",
   "execution_count": 23,
   "metadata": {},
   "outputs": [
    {
     "data": {
      "text/html": [
       "<div>\n",
       "<style scoped>\n",
       "    .dataframe tbody tr th:only-of-type {\n",
       "        vertical-align: middle;\n",
       "    }\n",
       "\n",
       "    .dataframe tbody tr th {\n",
       "        vertical-align: top;\n",
       "    }\n",
       "\n",
       "    .dataframe thead th {\n",
       "        text-align: right;\n",
       "    }\n",
       "</style>\n",
       "<table border=\"1\" class=\"dataframe\">\n",
       "  <thead>\n",
       "    <tr style=\"text-align: right;\">\n",
       "      <th></th>\n",
       "      <th>Country Code</th>\n",
       "      <th>GDP</th>\n",
       "    </tr>\n",
       "  </thead>\n",
       "  <tbody>\n",
       "    <tr>\n",
       "      <th>1</th>\n",
       "      <td>AFE</td>\n",
       "      <td>1485.307425</td>\n",
       "    </tr>\n",
       "    <tr>\n",
       "      <th>2</th>\n",
       "      <td>AFG</td>\n",
       "      <td>507.103392</td>\n",
       "    </tr>\n",
       "    <tr>\n",
       "      <th>3</th>\n",
       "      <td>AFW</td>\n",
       "      <td>1772.339155</td>\n",
       "    </tr>\n",
       "    <tr>\n",
       "      <th>4</th>\n",
       "      <td>AGO</td>\n",
       "      <td>2809.626088</td>\n",
       "    </tr>\n",
       "    <tr>\n",
       "      <th>5</th>\n",
       "      <td>ALB</td>\n",
       "      <td>5355.847795</td>\n",
       "    </tr>\n",
       "  </tbody>\n",
       "</table>\n",
       "</div>"
      ],
      "text/plain": [
       "  Country Code          GDP\n",
       "1          AFE  1485.307425\n",
       "2          AFG   507.103392\n",
       "3          AFW  1772.339155\n",
       "4          AGO  2809.626088\n",
       "5          ALB  5355.847795"
      ]
     },
     "execution_count": 23,
     "metadata": {},
     "output_type": "execute_result"
    }
   ],
   "source": [
    "gdp.head()"
   ]
  },
  {
   "cell_type": "code",
   "execution_count": 24,
   "metadata": {},
   "outputs": [],
   "source": [
    "dataset=spr.merge(gdp,how='inner',on='Country Code')"
   ]
  },
  {
   "cell_type": "code",
   "execution_count": 25,
   "metadata": {},
   "outputs": [],
   "source": [
    "dataset=dataset.merge(meta,how='inner',on='Country Code')"
   ]
  },
  {
   "cell_type": "code",
   "execution_count": 26,
   "metadata": {},
   "outputs": [
    {
     "data": {
      "text/html": [
       "<div>\n",
       "<style scoped>\n",
       "    .dataframe tbody tr th:only-of-type {\n",
       "        vertical-align: middle;\n",
       "    }\n",
       "\n",
       "    .dataframe tbody tr th {\n",
       "        vertical-align: top;\n",
       "    }\n",
       "\n",
       "    .dataframe thead th {\n",
       "        text-align: right;\n",
       "    }\n",
       "</style>\n",
       "<table border=\"1\" class=\"dataframe\">\n",
       "  <thead>\n",
       "    <tr style=\"text-align: right;\">\n",
       "      <th></th>\n",
       "      <th>Country Code</th>\n",
       "      <th>SPI</th>\n",
       "      <th>GDP</th>\n",
       "      <th>Region</th>\n",
       "    </tr>\n",
       "  </thead>\n",
       "  <tbody>\n",
       "    <tr>\n",
       "      <th>0</th>\n",
       "      <td>AFG</td>\n",
       "      <td>49.756250</td>\n",
       "      <td>507.103392</td>\n",
       "      <td>South Asia</td>\n",
       "    </tr>\n",
       "    <tr>\n",
       "      <th>1</th>\n",
       "      <td>AGO</td>\n",
       "      <td>54.945833</td>\n",
       "      <td>2809.626088</td>\n",
       "      <td>Sub-Saharan Africa</td>\n",
       "    </tr>\n",
       "    <tr>\n",
       "      <th>2</th>\n",
       "      <td>ALB</td>\n",
       "      <td>75.382917</td>\n",
       "      <td>5355.847795</td>\n",
       "      <td>Europe &amp; Central Asia</td>\n",
       "    </tr>\n",
       "    <tr>\n",
       "      <th>3</th>\n",
       "      <td>ARE</td>\n",
       "      <td>59.669167</td>\n",
       "      <td>43103.336293</td>\n",
       "      <td>Middle East &amp; North Africa</td>\n",
       "    </tr>\n",
       "    <tr>\n",
       "      <th>4</th>\n",
       "      <td>ARG</td>\n",
       "      <td>64.595833</td>\n",
       "      <td>9912.281809</td>\n",
       "      <td>Latin America &amp; Caribbean</td>\n",
       "    </tr>\n",
       "  </tbody>\n",
       "</table>\n",
       "</div>"
      ],
      "text/plain": [
       "  Country Code        SPI           GDP                      Region\n",
       "0          AFG  49.756250    507.103392                  South Asia\n",
       "1          AGO  54.945833   2809.626088          Sub-Saharan Africa\n",
       "2          ALB  75.382917   5355.847795       Europe & Central Asia\n",
       "3          ARE  59.669167  43103.336293  Middle East & North Africa\n",
       "4          ARG  64.595833   9912.281809   Latin America & Caribbean"
      ]
     },
     "execution_count": 26,
     "metadata": {},
     "output_type": "execute_result"
    }
   ],
   "source": [
    "dataset.head()"
   ]
  },
  {
   "cell_type": "code",
   "execution_count": 29,
   "metadata": {},
   "outputs": [
    {
     "data": {
      "text/plain": [
       "<AxesSubplot:xlabel='Region'>"
      ]
     },
     "execution_count": 29,
     "metadata": {},
     "output_type": "execute_result"
    },
    {
     "data": {
      "image/png": "[encoded data removed]",
      "text/plain": [
       "<Figure size 432x288 with 1 Axes>"
      ]
     },
     "metadata": {
      "needs_background": "light"
     },
     "output_type": "display_data"
    }
   ],
   "source": [
    "dataset.groupby('Region').mean()['SPI'].plot.bar()"
   ]
  },
  {
   "cell_type": "code",
   "execution_count": 34,
   "metadata": {},
   "outputs": [
    {
     "data": {
      "text/plain": [
       "<AxesSubplot:xlabel='GDP', ylabel='SPI'>"
      ]
     },
     "execution_count": 34,
     "metadata": {},
     "output_type": "execute_result"
    },
    {
     "data": {
      "image/png": "[encoded data removed]",
      "text/plain": [
       "<Figure size 432x288 with 1 Axes>"
      ]
     },
     "metadata": {
      "needs_background": "light"
     },
     "output_type": "display_data"
    }
   ],
   "source": [
    "dataset.plot.scatter(x='GDP', y='SPI')"
   ]
  },
  {
   "cell_type": "code",
   "execution_count": 35,
   "metadata": {},
   "outputs": [
    {
     "data": {
      "text/plain": [
       "<AxesSubplot:xlabel='GDP', ylabel='SPI'>"
      ]
     },
     "execution_count": 35,
     "metadata": {},
     "output_type": "execute_result"
    },
    {
     "data": {
      "image/png": "[encoded data removed]",
      "text/plain": [
       "<Figure size 432x288 with 1 Axes>"
      ]
     },
     "metadata": {
      "needs_background": "light"
     },
     "output_type": "display_data"
    }
   ],
   "source": [
    "dataset.plot.scatter(x='GDP', y='SPI',logx=True)"
   ]
  },
  {
   "cell_type": "code",
   "execution_count": 37,
   "metadata": {},
   "outputs": [
    {
     "data": {
      "text/plain": [
       "<AxesSubplot:ylabel='Region'>"
      ]
     },
     "execution_count": 37,
     "metadata": {},
     "output_type": "execute_result"
    },
    {
     "data": {
      "image/png": "[encoded data removed]",
      "text/plain": [
       "<Figure size 432x288 with 1 Axes>"
      ]
     },
     "metadata": {
      "needs_background": "light"
     },
     "output_type": "display_data"
    }
   ],
   "source": [
    "dataset.groupby('Region').mean()['SPI'].sort_values(ascending=False).plot.barh()"
   ]
  },
  {
   "cell_type": "code",
   "execution_count": 38,
   "metadata": {},
   "outputs": [],
   "source": [
    "colors=dataset['Region'].factorize()[0]"
   ]
  },
  {
   "cell_type": "code",
   "execution_count": 39,
   "metadata": {},
   "outputs": [
    {
     "data": {
      "text/plain": [
       "<AxesSubplot:xlabel='GDP', ylabel='SPI'>"
      ]
     },
     "execution_count": 39,
     "metadata": {},
     "output_type": "execute_result"
    },
    {
     "data": {
      "image/png": "[encoded data removed]",
      "text/plain": [
       "<Figure size 432x288 with 2 Axes>"
      ]
     },
     "metadata": {
      "needs_background": "light"
     },
     "output_type": "display_data"
    }
   ],
   "source": [
    "dataset.plot.scatter(x='GDP',y='SPI',c=colors,logx=True,cmap='tab10')"
   ]
  }
 ],
 "metadata": {
  "kernelspec": {
   "display_name": "Python 3.9.6 64-bit",
   "language": "python",
   "name": "python3"
  },
  "language_info": {
   "codemirror_mode": {
    "name": "ipython",
    "version": 3
   },
   "file_extension": ".py",
   "mimetype": "text/x-python",
   "name": "python",
   "nbconvert_exporter": "python",
   "pygments_lexer": "ipython3",
   "version": "3.9.6"
  },
  "orig_nbformat": 4,
  "vscode": {
   "interpreter": {
    "hash": "2ea6e2759401c72f93fb16ffa300c72a8dd4ce3e55d7cb63d922513c12242f9b"
   }
  }
 },
 "nbformat": 4,
 "nbformat_minor": 2
}
